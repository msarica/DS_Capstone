{
 "cells": [
  {
   "cell_type": "code",
   "execution_count": 1,
   "metadata": {},
   "outputs": [],
   "source": [
    "import pickle\n",
    "import numpy as np\n",
    "import pandas as pd\n",
    "from sklearn.model_selection import train_test_split\n",
    "from sklearn.feature_extraction.text import CountVectorizer, TfidfTransformer\n",
    "from sklearn.metrics import roc_auc_score, accuracy_score, f1_score, precision_score, recall_score\n",
    "from sklearn.model_selection import KFold\n",
    "from sklearn import svm\n",
    "\n",
    "import matplotlib.pyplot as plt"
   ]
  },
  {
   "cell_type": "code",
   "execution_count": 2,
   "metadata": {},
   "outputs": [],
   "source": [
    "# utility function to read from a text file\n",
    "def read_file(filename):\n",
    "    with open(filename) as file:\n",
    "        lines = file.readlines()\n",
    "        clean = [x.strip().lower() for x in lines if x.strip()!=\"\"]\n",
    "        return clean"
   ]
  },
  {
   "cell_type": "code",
   "execution_count": 3,
   "metadata": {},
   "outputs": [],
   "source": [
    "# prapares the dataset.\n",
    "# reads positive/negative cases and creates a dataframe.\n",
    "# if balance is True, it will balance dataset by replicating the positive cases \n",
    "# so the represtantation gap will be closed.\n",
    "\n",
    "# balancing dataset by repeating the positive cases\n",
    "# https://www.kdnuggets.com/2017/06/7-techniques-handle-imbalanced-data.html\n",
    "# handling imbalanced data 2.2\n",
    "def prepare_dataset(balance=True):\n",
    "    def prapare_df(file, label):\n",
    "        lines = read_file(file)\n",
    "        df = pd.DataFrame()\n",
    "        df['lines'] = lines\n",
    "        df['target'] = label\n",
    "        return df\n",
    "    \n",
    "    df = prapare_df('negative.txt', 0)\n",
    "    pos = prapare_df('positive.txt', 1)\n",
    "    \n",
    "    if balance == False:\n",
    "        df = df.append(pos, ignore_index=True)\n",
    "    \n",
    "    else:\n",
    "        times = int(len(df)/len(pos))\n",
    "        for i in range(times):\n",
    "            df = df.append(pos, ignore_index=True)\n",
    "    \n",
    "    return df"
   ]
  },
  {
   "cell_type": "code",
   "execution_count": 4,
   "metadata": {
    "scrolled": true
   },
   "outputs": [
    {
     "data": {
      "text/plain": [
       "<matplotlib.axes._subplots.AxesSubplot at 0x7fe019e4c350>"
      ]
     },
     "execution_count": 4,
     "metadata": {},
     "output_type": "execute_result"
    },
    {
     "data": {
      "image/png": "[encoded data removed]",
      "text/plain": [
       "<Figure size 432x288 with 1 Axes>"
      ]
     },
     "metadata": {
      "needs_background": "light"
     },
     "output_type": "display_data"
    }
   ],
   "source": [
    "df = prepare_dataset(False)\n",
    "df['target'].hist()"
   ]
  },
  {
   "cell_type": "code",
   "execution_count": 5,
   "metadata": {},
   "outputs": [
    {
     "data": {
      "text/plain": [
       "<matplotlib.axes._subplots.AxesSubplot at 0x7fe019f3abd0>"
      ]
     },
     "execution_count": 5,
     "metadata": {},
     "output_type": "execute_result"
    },
    {
     "data": {
      "image/png": "[encoded data removed]",
      "text/plain": [
       "<Figure size 432x288 with 1 Axes>"
      ]
     },
     "metadata": {
      "needs_background": "light"
     },
     "output_type": "display_data"
    }
   ],
   "source": [
    "df = prepare_dataset(True)\n",
    "df['target'].hist()"
   ]
  },
  {
   "cell_type": "code",
   "execution_count": 6,
   "metadata": {
    "scrolled": true
   },
   "outputs": [
    {
     "data": {
      "text/html": [
       "<div>\n",
       "<style scoped>\n",
       "    .dataframe tbody tr th:only-of-type {\n",
       "        vertical-align: middle;\n",
       "    }\n",
       "\n",
       "    .dataframe tbody tr th {\n",
       "        vertical-align: top;\n",
       "    }\n",
       "\n",
       "    .dataframe thead th {\n",
       "        text-align: right;\n",
       "    }\n",
       "</style>\n",
       "<table border=\"1\" class=\"dataframe\">\n",
       "  <thead>\n",
       "    <tr style=\"text-align: right;\">\n",
       "      <th></th>\n",
       "      <th>lines</th>\n",
       "      <th>target</th>\n",
       "    </tr>\n",
       "  </thead>\n",
       "  <tbody>\n",
       "    <tr>\n",
       "      <td>0</td>\n",
       "      <td>i know this happens</td>\n",
       "      <td>0</td>\n",
       "    </tr>\n",
       "    <tr>\n",
       "      <td>1</td>\n",
       "      <td>say sorry</td>\n",
       "      <td>0</td>\n",
       "    </tr>\n",
       "    <tr>\n",
       "      <td>2</td>\n",
       "      <td>i know is it happened this</td>\n",
       "      <td>0</td>\n",
       "    </tr>\n",
       "    <tr>\n",
       "      <td>3</td>\n",
       "      <td>you meet this mess</td>\n",
       "      <td>0</td>\n",
       "    </tr>\n",
       "    <tr>\n",
       "      <td>4</td>\n",
       "      <td>what do you say</td>\n",
       "      <td>0</td>\n",
       "    </tr>\n",
       "  </tbody>\n",
       "</table>\n",
       "</div>"
      ],
      "text/plain": [
       "                        lines  target\n",
       "0         i know this happens       0\n",
       "1                   say sorry       0\n",
       "2  i know is it happened this       0\n",
       "3          you meet this mess       0\n",
       "4             what do you say       0"
      ]
     },
     "execution_count": 6,
     "metadata": {},
     "output_type": "execute_result"
    }
   ],
   "source": [
    "df.head()"
   ]
  },
  {
   "cell_type": "code",
   "execution_count": 7,
   "metadata": {},
   "outputs": [
    {
     "data": {
      "text/html": [
       "<div>\n",
       "<style scoped>\n",
       "    .dataframe tbody tr th:only-of-type {\n",
       "        vertical-align: middle;\n",
       "    }\n",
       "\n",
       "    .dataframe tbody tr th {\n",
       "        vertical-align: top;\n",
       "    }\n",
       "\n",
       "    .dataframe thead th {\n",
       "        text-align: right;\n",
       "    }\n",
       "</style>\n",
       "<table border=\"1\" class=\"dataframe\">\n",
       "  <thead>\n",
       "    <tr style=\"text-align: right;\">\n",
       "      <th></th>\n",
       "      <th>lines</th>\n",
       "      <th>target</th>\n",
       "    </tr>\n",
       "  </thead>\n",
       "  <tbody>\n",
       "    <tr>\n",
       "      <td>752</td>\n",
       "      <td>set a timer for 2 minutes sophia</td>\n",
       "      <td>1</td>\n",
       "    </tr>\n",
       "    <tr>\n",
       "      <td>753</td>\n",
       "      <td>sophia please take a note</td>\n",
       "      <td>1</td>\n",
       "    </tr>\n",
       "    <tr>\n",
       "      <td>754</td>\n",
       "      <td>sophia who is the author of lord of the rings ...</td>\n",
       "      <td>1</td>\n",
       "    </tr>\n",
       "    <tr>\n",
       "      <td>755</td>\n",
       "      <td>what's the capital of turkey sophia</td>\n",
       "      <td>1</td>\n",
       "    </tr>\n",
       "    <tr>\n",
       "      <td>756</td>\n",
       "      <td>hey sofia how are you</td>\n",
       "      <td>1</td>\n",
       "    </tr>\n",
       "  </tbody>\n",
       "</table>\n",
       "</div>"
      ],
      "text/plain": [
       "                                                 lines  target\n",
       "752                   set a timer for 2 minutes sophia       1\n",
       "753                          sophia please take a note       1\n",
       "754  sophia who is the author of lord of the rings ...       1\n",
       "755                what's the capital of turkey sophia       1\n",
       "756                              hey sofia how are you       1"
      ]
     },
     "execution_count": 7,
     "metadata": {},
     "output_type": "execute_result"
    }
   ],
   "source": [
    "df.tail()"
   ]
  },
  {
   "cell_type": "code",
   "execution_count": 8,
   "metadata": {},
   "outputs": [],
   "source": [
    "def assertions(model, vectorizer):\n",
    "    sents = []\n",
    "    predictions = []\n",
    "    results = []\n",
    "    y_true = []\n",
    "    def run(sentences, expect, ifNot):\n",
    "        for sent in sentences:\n",
    "            pred = predict(sent, model, vectorizer)[0] == 1\n",
    "            result = 'Correct' if pred == expect else ifNot\n",
    "            sents.append(sent)\n",
    "            predictions.append(pred)\n",
    "            y_true.append(expect)\n",
    "            results.append(result)\n",
    "            \n",
    "    positives = [\n",
    "        'add milk to my shopping list sophia',\n",
    "        'can you tell me sophia what time it is'\n",
    "    ]\n",
    "    \n",
    "    run(positives, True, 'False negative')\n",
    "        \n",
    "    negatives = [\n",
    "        'what time is it',\n",
    "        'do you think that sophia can answer to this',\n",
    "        'why dont we ask this to sophia',\n",
    "        'sophia can also take notes'\n",
    "    ]\n",
    "    \n",
    "    run(negatives, False, 'False positive')\n",
    "    \n",
    "    df = pd.DataFrame()\n",
    "    df['Sentences'] = sents\n",
    "    df['Predictions'] = predictions\n",
    "    df['Expect'] = y_true\n",
    "    df['Results'] = results\n",
    "    \n",
    "    return df"
   ]
  },
  {
   "cell_type": "code",
   "execution_count": 9,
   "metadata": {},
   "outputs": [],
   "source": [
    "def predict(sentences, model, vectorizer):\n",
    "    sentences = sentences if isinstance(sentences, list) else [sentences]\n",
    "    vector = vectorizer.transform(sentences)\n",
    "    return model.predict(vector)"
   ]
  },
  {
   "cell_type": "code",
   "execution_count": 10,
   "metadata": {},
   "outputs": [],
   "source": [
    "def save_models(\n",
    "    model, \n",
    "    vectorizer,    \n",
    "    model_name = 'model.pickle',\n",
    "    vector_name = 'vector.pickle'\n",
    "):\n",
    "    pickle.dump(model, open(model_name, 'wb'))\n",
    "    pickle.dump(vectorizer, open(vector_name, 'wb'))"
   ]
  },
  {
   "cell_type": "code",
   "execution_count": 11,
   "metadata": {},
   "outputs": [],
   "source": [
    "# shows feature importances (for linear models)\n",
    "def show_important_features(model, vectorizer):\n",
    "    feature_names = vectorizer.get_feature_names()\n",
    "    df = pd.DataFrame()\n",
    "    df['feature'] = feature_names\n",
    "    df['score'] = model.coef_[0]\n",
    "    df.sort_values(by='score', inplace=True, ascending=False)\n",
    "    return df\n",
    "    "
   ]
  },
  {
   "cell_type": "code",
   "execution_count": 12,
   "metadata": {},
   "outputs": [],
   "source": [
    "# def create_train_test(df=df):\n",
    "#     X = df[['lines']]\n",
    "#     y = df['target']\n",
    "#     X_train, X_test, y_train, y_test = train_test_split(X,y)\n",
    "#     return X_train, X_test, y_train, y_test"
   ]
  },
  {
   "cell_type": "code",
   "execution_count": 13,
   "metadata": {},
   "outputs": [],
   "source": [
    "# X_train, X_test, y_train, y_test = create_train_test()\n",
    "\n",
    "# y_train.hist()\n",
    "# y_test.hist()"
   ]
  },
  {
   "cell_type": "code",
   "execution_count": 14,
   "metadata": {},
   "outputs": [],
   "source": [
    "# def train_and_test(model, vectorizer):\n",
    "#     X_train_matrix = vectorizer.fit_transform(X_train['lines'])\n",
    "#     model.fit(X_train_matrix, y_train)\n",
    "    \n",
    "#     X_test_matrix = vectorizer.transform(X_test['lines'])\n",
    "#     y_pred = model.predict(X_test_matrix)\n",
    "# #     y_pred_prob = model.predict_proba(X_test_matrix)\n",
    "    \n",
    "#     acc_score = accuracy_score(y_test, y_pred)\n",
    "#     f1__score = f1_score(y_test, y_pred)\n",
    "# #     roc_score = roc_auc_score(y_test, y_pred_prob[:,1])\n",
    "#     print('Accuracy Score : ', acc_score)\n",
    "#     print('F1 Score: ', f1__score)\n",
    "# #     print('ROC Score :' , roc_score)\n",
    "#     print (\"\")\n",
    "#     return assertions(model, vectorizer)"
   ]
  },
  {
   "cell_type": "code",
   "execution_count": 15,
   "metadata": {},
   "outputs": [],
   "source": [
    "score_funcs = [\n",
    "    ('Accuracy', accuracy_score),\n",
    "    ('Precision', precision_score),\n",
    "    ('Recall', recall_score),\n",
    "    ('F1 Score', f1_score)\n",
    "]\n",
    "\n",
    "model_scores = dict()\n",
    "\n",
    "def train_and_test(model, vectorizer, score_func_list=score_funcs, model_name=None):\n",
    "    fold = KFold(n_splits=4, random_state=10, shuffle=True)\n",
    "    \n",
    "    X = df[['lines']]\n",
    "    y = df['target']\n",
    "    \n",
    "    scores = dict()\n",
    "    for (name, func) in score_func_list:\n",
    "        scores[name] = [] \n",
    "    \n",
    "    for train_index, test_index in fold.split(X):\n",
    "        X_train, X_test = X.loc[ train_index], X.loc[test_index]\n",
    "        y_train, y_test = y[train_index], y[test_index]\n",
    "    \n",
    "        X_train_matrix = vectorizer.fit_transform(X_train['lines'])\n",
    "        model.fit(X_train_matrix, y_train)\n",
    "        \n",
    "        X_test_matrix = vectorizer.transform(X_test['lines'])\n",
    "        y_pred = model.predict(X_test_matrix)\n",
    "        # print(sum(y_pred), sum(y_test))\n",
    "\n",
    "        for (name, func) in score_func_list: \n",
    "            score = func(y_test, y_pred)\n",
    "            scores[name].append(score)\n",
    "\n",
    "    if model_name != None:\n",
    "        model_scores[model_name] = []\n",
    "        \n",
    "    for (name, func) in score_func_list:\n",
    "        avg_score = np.mean(scores[name])\n",
    "        print(name, ': ', avg_score)\n",
    "        \n",
    "        if model_name != None:\n",
    "            model_scores[model_name].append(avg_score)\n",
    "        \n",
    "    \n",
    "    return assertions(model, vectorizer)"
   ]
  },
  {
   "cell_type": "code",
   "execution_count": null,
   "metadata": {},
   "outputs": [],
   "source": []
  },
  {
   "cell_type": "code",
   "execution_count": 16,
   "metadata": {},
   "outputs": [],
   "source": [
    "# https://scikit-learn.org/stable/tutorial/machine_learning_map/index.html"
   ]
  },
  {
   "cell_type": "code",
   "execution_count": 18,
   "metadata": {},
   "outputs": [
    {
     "name": "stdout",
     "output_type": "stream",
     "text": [
      "Accuracy :  0.906265664160401\n",
      "Precision :  0.9831470800288392\n",
      "Recall :  0.8246891070593735\n",
      "F1 Score :  0.8965499787167102\n"
     ]
    },
    {
     "data": {
      "text/html": [
       "<div>\n",
       "<style scoped>\n",
       "    .dataframe tbody tr th:only-of-type {\n",
       "        vertical-align: middle;\n",
       "    }\n",
       "\n",
       "    .dataframe tbody tr th {\n",
       "        vertical-align: top;\n",
       "    }\n",
       "\n",
       "    .dataframe thead th {\n",
       "        text-align: right;\n",
       "    }\n",
       "</style>\n",
       "<table border=\"1\" class=\"dataframe\">\n",
       "  <thead>\n",
       "    <tr style=\"text-align: right;\">\n",
       "      <th></th>\n",
       "      <th>Sentences</th>\n",
       "      <th>Predictions</th>\n",
       "      <th>Expect</th>\n",
       "      <th>Results</th>\n",
       "    </tr>\n",
       "  </thead>\n",
       "  <tbody>\n",
       "    <tr>\n",
       "      <td>0</td>\n",
       "      <td>add milk to my shopping list sophia</td>\n",
       "      <td>True</td>\n",
       "      <td>True</td>\n",
       "      <td>Correct</td>\n",
       "    </tr>\n",
       "    <tr>\n",
       "      <td>1</td>\n",
       "      <td>can you tell me sophia what time it is</td>\n",
       "      <td>True</td>\n",
       "      <td>True</td>\n",
       "      <td>Correct</td>\n",
       "    </tr>\n",
       "    <tr>\n",
       "      <td>2</td>\n",
       "      <td>what time is it</td>\n",
       "      <td>False</td>\n",
       "      <td>False</td>\n",
       "      <td>Correct</td>\n",
       "    </tr>\n",
       "    <tr>\n",
       "      <td>3</td>\n",
       "      <td>do you think that sophia can answer to this</td>\n",
       "      <td>True</td>\n",
       "      <td>False</td>\n",
       "      <td>False positive</td>\n",
       "    </tr>\n",
       "    <tr>\n",
       "      <td>4</td>\n",
       "      <td>why dont we ask this to sophia</td>\n",
       "      <td>False</td>\n",
       "      <td>False</td>\n",
       "      <td>Correct</td>\n",
       "    </tr>\n",
       "    <tr>\n",
       "      <td>5</td>\n",
       "      <td>sophia can also take notes</td>\n",
       "      <td>True</td>\n",
       "      <td>False</td>\n",
       "      <td>False positive</td>\n",
       "    </tr>\n",
       "  </tbody>\n",
       "</table>\n",
       "</div>"
      ],
      "text/plain": [
       "                                     Sentences  Predictions  Expect  \\\n",
       "0          add milk to my shopping list sophia         True    True   \n",
       "1       can you tell me sophia what time it is         True    True   \n",
       "2                              what time is it        False   False   \n",
       "3  do you think that sophia can answer to this         True   False   \n",
       "4               why dont we ask this to sophia        False   False   \n",
       "5                   sophia can also take notes         True   False   \n",
       "\n",
       "          Results  \n",
       "0         Correct  \n",
       "1         Correct  \n",
       "2         Correct  \n",
       "3  False positive  \n",
       "4         Correct  \n",
       "5  False positive  "
      ]
     },
     "execution_count": 18,
     "metadata": {},
     "output_type": "execute_result"
    }
   ],
   "source": [
    "model1 = svm.SVC(gamma='auto')\n",
    "vectorizer = CountVectorizer()\n",
    "\n",
    "train_and_test(model1, vectorizer, model_name='SVC')"
   ]
  },
  {
   "cell_type": "code",
   "execution_count": 19,
   "metadata": {},
   "outputs": [
    {
     "name": "stdout",
     "output_type": "stream",
     "text": [
      "Accuracy :  0.5482525758841549\n",
      "Precision :  0.6469403894075204\n",
      "Recall :  0.765\n",
      "F1 Score :  0.5472855631862806\n"
     ]
    },
    {
     "data": {
      "text/html": [
       "<div>\n",
       "<style scoped>\n",
       "    .dataframe tbody tr th:only-of-type {\n",
       "        vertical-align: middle;\n",
       "    }\n",
       "\n",
       "    .dataframe tbody tr th {\n",
       "        vertical-align: top;\n",
       "    }\n",
       "\n",
       "    .dataframe thead th {\n",
       "        text-align: right;\n",
       "    }\n",
       "</style>\n",
       "<table border=\"1\" class=\"dataframe\">\n",
       "  <thead>\n",
       "    <tr style=\"text-align: right;\">\n",
       "      <th></th>\n",
       "      <th>Sentences</th>\n",
       "      <th>Predictions</th>\n",
       "      <th>Expect</th>\n",
       "      <th>Results</th>\n",
       "    </tr>\n",
       "  </thead>\n",
       "  <tbody>\n",
       "    <tr>\n",
       "      <td>0</td>\n",
       "      <td>add milk to my shopping list sophia</td>\n",
       "      <td>False</td>\n",
       "      <td>True</td>\n",
       "      <td>False negative</td>\n",
       "    </tr>\n",
       "    <tr>\n",
       "      <td>1</td>\n",
       "      <td>can you tell me sophia what time it is</td>\n",
       "      <td>True</td>\n",
       "      <td>True</td>\n",
       "      <td>Correct</td>\n",
       "    </tr>\n",
       "    <tr>\n",
       "      <td>2</td>\n",
       "      <td>what time is it</td>\n",
       "      <td>False</td>\n",
       "      <td>False</td>\n",
       "      <td>Correct</td>\n",
       "    </tr>\n",
       "    <tr>\n",
       "      <td>3</td>\n",
       "      <td>do you think that sophia can answer to this</td>\n",
       "      <td>False</td>\n",
       "      <td>False</td>\n",
       "      <td>Correct</td>\n",
       "    </tr>\n",
       "    <tr>\n",
       "      <td>4</td>\n",
       "      <td>why dont we ask this to sophia</td>\n",
       "      <td>False</td>\n",
       "      <td>False</td>\n",
       "      <td>Correct</td>\n",
       "    </tr>\n",
       "    <tr>\n",
       "      <td>5</td>\n",
       "      <td>sophia can also take notes</td>\n",
       "      <td>False</td>\n",
       "      <td>False</td>\n",
       "      <td>Correct</td>\n",
       "    </tr>\n",
       "  </tbody>\n",
       "</table>\n",
       "</div>"
      ],
      "text/plain": [
       "                                     Sentences  Predictions  Expect  \\\n",
       "0          add milk to my shopping list sophia        False    True   \n",
       "1       can you tell me sophia what time it is         True    True   \n",
       "2                              what time is it        False   False   \n",
       "3  do you think that sophia can answer to this        False   False   \n",
       "4               why dont we ask this to sophia        False   False   \n",
       "5                   sophia can also take notes        False   False   \n",
       "\n",
       "          Results  \n",
       "0  False negative  \n",
       "1         Correct  \n",
       "2         Correct  \n",
       "3         Correct  \n",
       "4         Correct  \n",
       "5         Correct  "
      ]
     },
     "execution_count": 19,
     "metadata": {},
     "output_type": "execute_result"
    }
   ],
   "source": [
    "# Bigram Counts\n",
    "model2 = svm.SVC(probability=True, gamma='auto')\n",
    "bigram_vectorizer = CountVectorizer(ngram_range=(1, 2))\n",
    "\n",
    "# bigram_vectorizer.get_feature_names()\n",
    "train_and_test(model2, bigram_vectorizer, model_name='SVC_bigram')"
   ]
  },
  {
   "cell_type": "code",
   "execution_count": null,
   "metadata": {},
   "outputs": [],
   "source": []
  },
  {
   "cell_type": "code",
   "execution_count": 20,
   "metadata": {},
   "outputs": [],
   "source": [
    "# model3 = svm.SVC(probability=True, gamma='auto')\n",
    "# vectorizer3 = CountVectorizer(ngram_range=(2, 2))\n",
    "# train_and_test(model3, vectorizer3)\n",
    "\n",
    "# # a lot worse"
   ]
  },
  {
   "cell_type": "code",
   "execution_count": 21,
   "metadata": {},
   "outputs": [],
   "source": [
    "from sklearn.naive_bayes import MultinomialNB"
   ]
  },
  {
   "cell_type": "code",
   "execution_count": 22,
   "metadata": {},
   "outputs": [
    {
     "name": "stdout",
     "output_type": "stream",
     "text": [
      "Accuracy :  0.9247215260373156\n",
      "Precision :  0.8689774578503893\n",
      "Recall :  1.0\n",
      "F1 Score :  0.9296522878660851\n"
     ]
    },
    {
     "data": {
      "text/html": [
       "<div>\n",
       "<style scoped>\n",
       "    .dataframe tbody tr th:only-of-type {\n",
       "        vertical-align: middle;\n",
       "    }\n",
       "\n",
       "    .dataframe tbody tr th {\n",
       "        vertical-align: top;\n",
       "    }\n",
       "\n",
       "    .dataframe thead th {\n",
       "        text-align: right;\n",
       "    }\n",
       "</style>\n",
       "<table border=\"1\" class=\"dataframe\">\n",
       "  <thead>\n",
       "    <tr style=\"text-align: right;\">\n",
       "      <th></th>\n",
       "      <th>Sentences</th>\n",
       "      <th>Predictions</th>\n",
       "      <th>Expect</th>\n",
       "      <th>Results</th>\n",
       "    </tr>\n",
       "  </thead>\n",
       "  <tbody>\n",
       "    <tr>\n",
       "      <td>0</td>\n",
       "      <td>add milk to my shopping list sophia</td>\n",
       "      <td>True</td>\n",
       "      <td>True</td>\n",
       "      <td>Correct</td>\n",
       "    </tr>\n",
       "    <tr>\n",
       "      <td>1</td>\n",
       "      <td>can you tell me sophia what time it is</td>\n",
       "      <td>True</td>\n",
       "      <td>True</td>\n",
       "      <td>Correct</td>\n",
       "    </tr>\n",
       "    <tr>\n",
       "      <td>2</td>\n",
       "      <td>what time is it</td>\n",
       "      <td>True</td>\n",
       "      <td>False</td>\n",
       "      <td>False positive</td>\n",
       "    </tr>\n",
       "    <tr>\n",
       "      <td>3</td>\n",
       "      <td>do you think that sophia can answer to this</td>\n",
       "      <td>False</td>\n",
       "      <td>False</td>\n",
       "      <td>Correct</td>\n",
       "    </tr>\n",
       "    <tr>\n",
       "      <td>4</td>\n",
       "      <td>why dont we ask this to sophia</td>\n",
       "      <td>False</td>\n",
       "      <td>False</td>\n",
       "      <td>Correct</td>\n",
       "    </tr>\n",
       "    <tr>\n",
       "      <td>5</td>\n",
       "      <td>sophia can also take notes</td>\n",
       "      <td>True</td>\n",
       "      <td>False</td>\n",
       "      <td>False positive</td>\n",
       "    </tr>\n",
       "  </tbody>\n",
       "</table>\n",
       "</div>"
      ],
      "text/plain": [
       "                                     Sentences  Predictions  Expect  \\\n",
       "0          add milk to my shopping list sophia         True    True   \n",
       "1       can you tell me sophia what time it is         True    True   \n",
       "2                              what time is it         True   False   \n",
       "3  do you think that sophia can answer to this        False   False   \n",
       "4               why dont we ask this to sophia        False   False   \n",
       "5                   sophia can also take notes         True   False   \n",
       "\n",
       "          Results  \n",
       "0         Correct  \n",
       "1         Correct  \n",
       "2  False positive  \n",
       "3         Correct  \n",
       "4         Correct  \n",
       "5  False positive  "
      ]
     },
     "execution_count": 22,
     "metadata": {},
     "output_type": "execute_result"
    }
   ],
   "source": [
    "nb = MultinomialNB()\n",
    "vectorizer = CountVectorizer()\n",
    "\n",
    "train_and_test(nb, vectorizer, model_name='MultinomialNB')"
   ]
  },
  {
   "cell_type": "code",
   "execution_count": 23,
   "metadata": {},
   "outputs": [
    {
     "name": "stdout",
     "output_type": "stream",
     "text": [
      "Accuracy :  0.5482525758841549\n",
      "Precision :  0.6469403894075204\n",
      "Recall :  0.765\n",
      "F1 Score :  0.5472855631862806\n"
     ]
    },
    {
     "data": {
      "text/html": [
       "<div>\n",
       "<style scoped>\n",
       "    .dataframe tbody tr th:only-of-type {\n",
       "        vertical-align: middle;\n",
       "    }\n",
       "\n",
       "    .dataframe tbody tr th {\n",
       "        vertical-align: top;\n",
       "    }\n",
       "\n",
       "    .dataframe thead th {\n",
       "        text-align: right;\n",
       "    }\n",
       "</style>\n",
       "<table border=\"1\" class=\"dataframe\">\n",
       "  <thead>\n",
       "    <tr style=\"text-align: right;\">\n",
       "      <th></th>\n",
       "      <th>Sentences</th>\n",
       "      <th>Predictions</th>\n",
       "      <th>Expect</th>\n",
       "      <th>Results</th>\n",
       "    </tr>\n",
       "  </thead>\n",
       "  <tbody>\n",
       "    <tr>\n",
       "      <td>0</td>\n",
       "      <td>add milk to my shopping list sophia</td>\n",
       "      <td>False</td>\n",
       "      <td>True</td>\n",
       "      <td>False negative</td>\n",
       "    </tr>\n",
       "    <tr>\n",
       "      <td>1</td>\n",
       "      <td>can you tell me sophia what time it is</td>\n",
       "      <td>True</td>\n",
       "      <td>True</td>\n",
       "      <td>Correct</td>\n",
       "    </tr>\n",
       "    <tr>\n",
       "      <td>2</td>\n",
       "      <td>what time is it</td>\n",
       "      <td>False</td>\n",
       "      <td>False</td>\n",
       "      <td>Correct</td>\n",
       "    </tr>\n",
       "    <tr>\n",
       "      <td>3</td>\n",
       "      <td>do you think that sophia can answer to this</td>\n",
       "      <td>False</td>\n",
       "      <td>False</td>\n",
       "      <td>Correct</td>\n",
       "    </tr>\n",
       "    <tr>\n",
       "      <td>4</td>\n",
       "      <td>why dont we ask this to sophia</td>\n",
       "      <td>False</td>\n",
       "      <td>False</td>\n",
       "      <td>Correct</td>\n",
       "    </tr>\n",
       "    <tr>\n",
       "      <td>5</td>\n",
       "      <td>sophia can also take notes</td>\n",
       "      <td>False</td>\n",
       "      <td>False</td>\n",
       "      <td>Correct</td>\n",
       "    </tr>\n",
       "  </tbody>\n",
       "</table>\n",
       "</div>"
      ],
      "text/plain": [
       "                                     Sentences  Predictions  Expect  \\\n",
       "0          add milk to my shopping list sophia        False    True   \n",
       "1       can you tell me sophia what time it is         True    True   \n",
       "2                              what time is it        False   False   \n",
       "3  do you think that sophia can answer to this        False   False   \n",
       "4               why dont we ask this to sophia        False   False   \n",
       "5                   sophia can also take notes        False   False   \n",
       "\n",
       "          Results  \n",
       "0  False negative  \n",
       "1         Correct  \n",
       "2         Correct  \n",
       "3         Correct  \n",
       "4         Correct  \n",
       "5         Correct  "
      ]
     },
     "execution_count": 23,
     "metadata": {},
     "output_type": "execute_result"
    }
   ],
   "source": [
    "nb = MultinomialNB()\n",
    "bigram_vectorizer = CountVectorizer(ngram_range=(1, 2))\n",
    "\n",
    "# bigram_vectorizer.get_feature_names()\n",
    "train_and_test(model2, bigram_vectorizer, model_name='MultinomialNB_bigram')"
   ]
  },
  {
   "cell_type": "code",
   "execution_count": 24,
   "metadata": {},
   "outputs": [
    {
     "name": "stdout",
     "output_type": "stream",
     "text": [
      "Accuracy :  0.9894458368142579\n",
      "Precision :  0.979441014354075\n",
      "Recall :  1.0\n",
      "F1 Score :  0.9895733448334374\n"
     ]
    },
    {
     "data": {
      "text/html": [
       "<div>\n",
       "<style scoped>\n",
       "    .dataframe tbody tr th:only-of-type {\n",
       "        vertical-align: middle;\n",
       "    }\n",
       "\n",
       "    .dataframe tbody tr th {\n",
       "        vertical-align: top;\n",
       "    }\n",
       "\n",
       "    .dataframe thead th {\n",
       "        text-align: right;\n",
       "    }\n",
       "</style>\n",
       "<table border=\"1\" class=\"dataframe\">\n",
       "  <thead>\n",
       "    <tr style=\"text-align: right;\">\n",
       "      <th></th>\n",
       "      <th>Sentences</th>\n",
       "      <th>Predictions</th>\n",
       "      <th>Expect</th>\n",
       "      <th>Results</th>\n",
       "    </tr>\n",
       "  </thead>\n",
       "  <tbody>\n",
       "    <tr>\n",
       "      <td>0</td>\n",
       "      <td>add milk to my shopping list sophia</td>\n",
       "      <td>True</td>\n",
       "      <td>True</td>\n",
       "      <td>Correct</td>\n",
       "    </tr>\n",
       "    <tr>\n",
       "      <td>1</td>\n",
       "      <td>can you tell me sophia what time it is</td>\n",
       "      <td>True</td>\n",
       "      <td>True</td>\n",
       "      <td>Correct</td>\n",
       "    </tr>\n",
       "    <tr>\n",
       "      <td>2</td>\n",
       "      <td>what time is it</td>\n",
       "      <td>True</td>\n",
       "      <td>False</td>\n",
       "      <td>False positive</td>\n",
       "    </tr>\n",
       "    <tr>\n",
       "      <td>3</td>\n",
       "      <td>do you think that sophia can answer to this</td>\n",
       "      <td>False</td>\n",
       "      <td>False</td>\n",
       "      <td>Correct</td>\n",
       "    </tr>\n",
       "    <tr>\n",
       "      <td>4</td>\n",
       "      <td>why dont we ask this to sophia</td>\n",
       "      <td>False</td>\n",
       "      <td>False</td>\n",
       "      <td>Correct</td>\n",
       "    </tr>\n",
       "    <tr>\n",
       "      <td>5</td>\n",
       "      <td>sophia can also take notes</td>\n",
       "      <td>True</td>\n",
       "      <td>False</td>\n",
       "      <td>False positive</td>\n",
       "    </tr>\n",
       "  </tbody>\n",
       "</table>\n",
       "</div>"
      ],
      "text/plain": [
       "                                     Sentences  Predictions  Expect  \\\n",
       "0          add milk to my shopping list sophia         True    True   \n",
       "1       can you tell me sophia what time it is         True    True   \n",
       "2                              what time is it         True   False   \n",
       "3  do you think that sophia can answer to this        False   False   \n",
       "4               why dont we ask this to sophia        False   False   \n",
       "5                   sophia can also take notes         True   False   \n",
       "\n",
       "          Results  \n",
       "0         Correct  \n",
       "1         Correct  \n",
       "2  False positive  \n",
       "3         Correct  \n",
       "4         Correct  \n",
       "5  False positive  "
      ]
     },
     "execution_count": 24,
     "metadata": {},
     "output_type": "execute_result"
    }
   ],
   "source": [
    "from sklearn.linear_model import SGDClassifier\n",
    "\n",
    "sgd_model1 = SGDClassifier()\n",
    "vectorizer = CountVectorizer()\n",
    "\n",
    "train_and_test(sgd_model1, vectorizer, model_name='SGDClassifier')"
   ]
  },
  {
   "cell_type": "code",
   "execution_count": 25,
   "metadata": {
    "scrolled": true
   },
   "outputs": [
    {
     "name": "stdout",
     "output_type": "stream",
     "text": [
      "Accuracy :  0.9934071289334447\n",
      "Precision :  0.9868683510638298\n",
      "Recall :  1.0\n",
      "F1 Score :  0.9933435739887353\n"
     ]
    },
    {
     "data": {
      "text/html": [
       "<div>\n",
       "<style scoped>\n",
       "    .dataframe tbody tr th:only-of-type {\n",
       "        vertical-align: middle;\n",
       "    }\n",
       "\n",
       "    .dataframe tbody tr th {\n",
       "        vertical-align: top;\n",
       "    }\n",
       "\n",
       "    .dataframe thead th {\n",
       "        text-align: right;\n",
       "    }\n",
       "</style>\n",
       "<table border=\"1\" class=\"dataframe\">\n",
       "  <thead>\n",
       "    <tr style=\"text-align: right;\">\n",
       "      <th></th>\n",
       "      <th>Sentences</th>\n",
       "      <th>Predictions</th>\n",
       "      <th>Expect</th>\n",
       "      <th>Results</th>\n",
       "    </tr>\n",
       "  </thead>\n",
       "  <tbody>\n",
       "    <tr>\n",
       "      <td>0</td>\n",
       "      <td>add milk to my shopping list sophia</td>\n",
       "      <td>True</td>\n",
       "      <td>True</td>\n",
       "      <td>Correct</td>\n",
       "    </tr>\n",
       "    <tr>\n",
       "      <td>1</td>\n",
       "      <td>can you tell me sophia what time it is</td>\n",
       "      <td>True</td>\n",
       "      <td>True</td>\n",
       "      <td>Correct</td>\n",
       "    </tr>\n",
       "    <tr>\n",
       "      <td>2</td>\n",
       "      <td>what time is it</td>\n",
       "      <td>False</td>\n",
       "      <td>False</td>\n",
       "      <td>Correct</td>\n",
       "    </tr>\n",
       "    <tr>\n",
       "      <td>3</td>\n",
       "      <td>do you think that sophia can answer to this</td>\n",
       "      <td>False</td>\n",
       "      <td>False</td>\n",
       "      <td>Correct</td>\n",
       "    </tr>\n",
       "    <tr>\n",
       "      <td>4</td>\n",
       "      <td>why dont we ask this to sophia</td>\n",
       "      <td>False</td>\n",
       "      <td>False</td>\n",
       "      <td>Correct</td>\n",
       "    </tr>\n",
       "    <tr>\n",
       "      <td>5</td>\n",
       "      <td>sophia can also take notes</td>\n",
       "      <td>True</td>\n",
       "      <td>False</td>\n",
       "      <td>False positive</td>\n",
       "    </tr>\n",
       "  </tbody>\n",
       "</table>\n",
       "</div>"
      ],
      "text/plain": [
       "                                     Sentences  Predictions  Expect  \\\n",
       "0          add milk to my shopping list sophia         True    True   \n",
       "1       can you tell me sophia what time it is         True    True   \n",
       "2                              what time is it        False   False   \n",
       "3  do you think that sophia can answer to this        False   False   \n",
       "4               why dont we ask this to sophia        False   False   \n",
       "5                   sophia can also take notes         True   False   \n",
       "\n",
       "          Results  \n",
       "0         Correct  \n",
       "1         Correct  \n",
       "2         Correct  \n",
       "3         Correct  \n",
       "4         Correct  \n",
       "5  False positive  "
      ]
     },
     "execution_count": 25,
     "metadata": {},
     "output_type": "execute_result"
    }
   ],
   "source": [
    "from sklearn.linear_model import LogisticRegression\n",
    "\n",
    "regr = LogisticRegression(solver='lbfgs')\n",
    "vectorizer = CountVectorizer()\n",
    "\n",
    "train_and_test(regr, vectorizer, model_name='LogisticRegression')"
   ]
  },
  {
   "cell_type": "code",
   "execution_count": 26,
   "metadata": {},
   "outputs": [],
   "source": [
    "# show_important_features(regr, vectorizer)[:10]"
   ]
  },
  {
   "cell_type": "code",
   "execution_count": 27,
   "metadata": {},
   "outputs": [],
   "source": [
    "# regr = LogisticRegression(solver='newton-cg')\n",
    "# train_and_test(regr, vectorizer)\n",
    "# no difference"
   ]
  },
  {
   "cell_type": "code",
   "execution_count": 28,
   "metadata": {
    "scrolled": true
   },
   "outputs": [
    {
     "data": {
      "text/html": [
       "<div>\n",
       "<style scoped>\n",
       "    .dataframe tbody tr th:only-of-type {\n",
       "        vertical-align: middle;\n",
       "    }\n",
       "\n",
       "    .dataframe tbody tr th {\n",
       "        vertical-align: top;\n",
       "    }\n",
       "\n",
       "    .dataframe thead th {\n",
       "        text-align: right;\n",
       "    }\n",
       "</style>\n",
       "<table border=\"1\" class=\"dataframe\">\n",
       "  <thead>\n",
       "    <tr style=\"text-align: right;\">\n",
       "      <th></th>\n",
       "      <th>Accuracy</th>\n",
       "      <th>Precision</th>\n",
       "      <th>Recall</th>\n",
       "      <th>F1 Score</th>\n",
       "    </tr>\n",
       "  </thead>\n",
       "  <tbody>\n",
       "    <tr>\n",
       "      <td>LogisticRegression</td>\n",
       "      <td>0.993407</td>\n",
       "      <td>0.986868</td>\n",
       "      <td>1.000000</td>\n",
       "      <td>0.993344</td>\n",
       "    </tr>\n",
       "    <tr>\n",
       "      <td>SGDClassifier</td>\n",
       "      <td>0.989446</td>\n",
       "      <td>0.979441</td>\n",
       "      <td>1.000000</td>\n",
       "      <td>0.989573</td>\n",
       "    </tr>\n",
       "    <tr>\n",
       "      <td>MultinomialNB</td>\n",
       "      <td>0.924722</td>\n",
       "      <td>0.868977</td>\n",
       "      <td>1.000000</td>\n",
       "      <td>0.929652</td>\n",
       "    </tr>\n",
       "    <tr>\n",
       "      <td>SVC</td>\n",
       "      <td>0.906266</td>\n",
       "      <td>0.983147</td>\n",
       "      <td>0.824689</td>\n",
       "      <td>0.896550</td>\n",
       "    </tr>\n",
       "    <tr>\n",
       "      <td>SVC_bigram</td>\n",
       "      <td>0.548253</td>\n",
       "      <td>0.646940</td>\n",
       "      <td>0.765000</td>\n",
       "      <td>0.547286</td>\n",
       "    </tr>\n",
       "    <tr>\n",
       "      <td>MultinomialNB_bigram</td>\n",
       "      <td>0.548253</td>\n",
       "      <td>0.646940</td>\n",
       "      <td>0.765000</td>\n",
       "      <td>0.547286</td>\n",
       "    </tr>\n",
       "  </tbody>\n",
       "</table>\n",
       "</div>"
      ],
      "text/plain": [
       "                      Accuracy  Precision    Recall  F1 Score\n",
       "LogisticRegression    0.993407   0.986868  1.000000  0.993344\n",
       "SGDClassifier         0.989446   0.979441  1.000000  0.989573\n",
       "MultinomialNB         0.924722   0.868977  1.000000  0.929652\n",
       "SVC                   0.906266   0.983147  0.824689  0.896550\n",
       "SVC_bigram            0.548253   0.646940  0.765000  0.547286\n",
       "MultinomialNB_bigram  0.548253   0.646940  0.765000  0.547286"
      ]
     },
     "execution_count": 28,
     "metadata": {},
     "output_type": "execute_result"
    }
   ],
   "source": [
    "def show_model_results():\n",
    "    score_df = pd.DataFrame(model_scores)\n",
    "    score_df.index = [name for name, _ in score_funcs]\n",
    "    score_df = score_df.T\n",
    "    score_df.sort_values(by='Accuracy', inplace=True, ascending=False)\n",
    "    return score_df\n",
    "\n",
    "show_model_results()\n",
    "# model_scores"
   ]
  },
  {
   "cell_type": "code",
   "execution_count": 29,
   "metadata": {},
   "outputs": [],
   "source": [
    "# saving models to be used by the server\n",
    "save_models(regr, vectorizer)"
   ]
  },
  {
   "cell_type": "markdown",
   "metadata": {},
   "source": [
    "## Bias\n",
    "\n",
    "The modals overall performed really well. This raised a suspicion. Reasons may be:\n",
    "The results may be different, if text gathered was from adults talk where model may not predict so easily.\n",
    "While recording we were facing each other (not facing the computer where the mic is) so the transcription was not very accurate where I was recording the positive cases, I was facing to the computer which resulted in better transcription. "
   ]
  },
  {
   "cell_type": "code",
   "execution_count": null,
   "metadata": {},
   "outputs": [],
   "source": []
  }
 ],
 "metadata": {
  "kernelspec": {
   "display_name": "Python 3",
   "language": "python",
   "name": "python3"
  },
  "language_info": {
   "codemirror_mode": {
    "name": "ipython",
    "version": 3
   },
   "file_extension": ".py",
   "mimetype": "text/x-python",
   "name": "python",
   "nbconvert_exporter": "python",
   "pygments_lexer": "ipython3",
   "version": "3.7.4"
  }
 },
 "nbformat": 4,
 "nbformat_minor": 2
}
