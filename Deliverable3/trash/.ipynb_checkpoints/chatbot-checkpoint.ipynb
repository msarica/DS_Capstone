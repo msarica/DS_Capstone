{
 "cells": [
  {
   "cell_type": "code",
   "execution_count": null,
   "metadata": {
    "colab": {
     "base_uri": "https://localhost:8080/",
     "height": 71
    },
    "colab_type": "code",
    "executionInfo": {
     "elapsed": 3505,
     "status": "ok",
     "timestamp": 1596380790046,
     "user": {
      "displayName": "Mehmet Sarica",
      "photoUrl": "https://lh3.googleusercontent.com/a-/AOh14GgCuzQw6Y_vvJ758677QLAVqBCmoWsklimab8_h=s64",
      "userId": "16793427156829347948"
     },
     "user_tz": 240
    },
    "id": "gzPztWscsyxV",
    "outputId": "78fddf6f-ba7e-4584-820b-5b21d0476672"
   },
   "outputs": [],
   "source": [
    "# https://chatterbot.readthedocs.io/en/stable/training.html\n",
    "\n",
    "# !pip install nltk"
   ]
  },
  {
   "cell_type": "code",
   "execution_count": 1,
   "metadata": {
    "colab": {},
    "colab_type": "code",
    "executionInfo": {
     "elapsed": 1242,
     "status": "ok",
     "timestamp": 1596381002092,
     "user": {
      "displayName": "Mehmet Sarica",
      "photoUrl": "https://lh3.googleusercontent.com/a-/AOh14GgCuzQw6Y_vvJ758677QLAVqBCmoWsklimab8_h=s64",
      "userId": "16793427156829347948"
     },
     "user_tz": 240
    },
    "id": "EGB1nLDMta86"
   },
   "outputs": [],
   "source": [
    "import nltk"
   ]
  },
  {
   "cell_type": "code",
   "execution_count": 2,
   "metadata": {
    "colab": {
     "base_uri": "https://localhost:8080/",
     "height": 1000
    },
    "colab_type": "code",
    "executionInfo": {
     "elapsed": 319001,
     "status": "ok",
     "timestamp": 1596381325220,
     "user": {
      "displayName": "Mehmet Sarica",
      "photoUrl": "https://lh3.googleusercontent.com/a-/AOh14GgCuzQw6Y_vvJ758677QLAVqBCmoWsklimab8_h=s64",
      "userId": "16793427156829347948"
     },
     "user_tz": 240
    },
    "id": "LhIc6AUfuPRi",
    "outputId": "792a1658-0f58-449a-ce4e-99c5fc608c75"
   },
   "outputs": [],
   "source": [
    "# nltk.download()"
   ]
  },
  {
   "cell_type": "code",
   "execution_count": 3,
   "metadata": {
    "colab": {
     "base_uri": "https://localhost:8080/",
     "height": 34
    },
    "colab_type": "code",
    "executionInfo": {
     "elapsed": 284,
     "status": "ok",
     "timestamp": 1596381747637,
     "user": {
      "displayName": "Mehmet Sarica",
      "photoUrl": "https://lh3.googleusercontent.com/a-/AOh14GgCuzQw6Y_vvJ758677QLAVqBCmoWsklimab8_h=s64",
      "userId": "16793427156829347948"
     },
     "user_tz": 240
    },
    "id": "V5ECmCikwSkw",
    "outputId": "4659696c-2beb-4e28-e08e-dea379204c4a"
   },
   "outputs": [],
   "source": [
    "# from nltk.stem import PorterStemmer\n",
    "# from nltk.tokenize import word_tokenize\n",
    "\n",
    "# ps = PorterStemmer()\n",
    "\n",
    "# words = [ps.stem(w) for w in word_tokenize(text)]\n",
    "# words"
   ]
  },
  {
   "cell_type": "code",
   "execution_count": null,
   "metadata": {
    "colab": {
     "base_uri": "https://localhost:8080/",
     "height": 1000
    },
    "colab_type": "code",
    "executionInfo": {
     "elapsed": 65617,
     "status": "ok",
     "timestamp": 1596381885972,
     "user": {
      "displayName": "Mehmet Sarica",
      "photoUrl": "https://lh3.googleusercontent.com/a-/AOh14GgCuzQw6Y_vvJ758677QLAVqBCmoWsklimab8_h=s64",
      "userId": "16793427156829347948"
     },
     "user_tz": 240
    },
    "id": "CM_DBsCuw3PM",
    "outputId": "8428bf8e-26ba-4e88-eabe-359310c7b43b"
   },
   "outputs": [],
   "source": [
    "!pip install chatterbot"
   ]
  },
  {
   "cell_type": "code",
   "execution_count": null,
   "metadata": {
    "colab": {
     "base_uri": "https://localhost:8080/",
     "height": 326
    },
    "colab_type": "code",
    "executionInfo": {
     "elapsed": 4978,
     "status": "ok",
     "timestamp": 1596381893603,
     "user": {
      "displayName": "Mehmet Sarica",
      "photoUrl": "https://lh3.googleusercontent.com/a-/AOh14GgCuzQw6Y_vvJ758677QLAVqBCmoWsklimab8_h=s64",
      "userId": "16793427156829347948"
     },
     "user_tz": 240
    },
    "id": "OHzFTfMQxXWd",
    "outputId": "e497ded3-b154-4eaa-ba92-0080aa6c04b9"
   },
   "outputs": [],
   "source": [
    "!pip install chatterbot_corpus"
   ]
  },
  {
   "cell_type": "code",
   "execution_count": null,
   "metadata": {
    "colab": {
     "base_uri": "https://localhost:8080/",
     "height": 71
    },
    "colab_type": "code",
    "executionInfo": {
     "elapsed": 3001,
     "status": "ok",
     "timestamp": 1596381926597,
     "user": {
      "displayName": "Mehmet Sarica",
      "photoUrl": "https://lh3.googleusercontent.com/a-/AOh14GgCuzQw6Y_vvJ758677QLAVqBCmoWsklimab8_h=s64",
      "userId": "16793427156829347948"
     },
     "user_tz": 240
    },
    "id": "D7CSKNNlxoBE",
    "outputId": "ce05c4eb-31ba-4bcc-f8df-6cbfad7cfd8f"
   },
   "outputs": [],
   "source": [
    "!pip install --upgrade chatterbot_corpus"
   ]
  },
  {
   "cell_type": "code",
   "execution_count": null,
   "metadata": {
    "colab": {
     "base_uri": "https://localhost:8080/",
     "height": 666
    },
    "colab_type": "code",
    "executionInfo": {
     "elapsed": 3505,
     "status": "ok",
     "timestamp": 1596381969150,
     "user": {
      "displayName": "Mehmet Sarica",
      "photoUrl": "https://lh3.googleusercontent.com/a-/AOh14GgCuzQw6Y_vvJ758677QLAVqBCmoWsklimab8_h=s64",
      "userId": "16793427156829347948"
     },
     "user_tz": 240
    },
    "id": "R9Z8G2Sfxwjg",
    "outputId": "cd75937e-7f9e-49ad-dfd7-ab3c89000ce0"
   },
   "outputs": [],
   "source": [
    "!pip install --upgrade chatterbot"
   ]
  },
  {
   "cell_type": "code",
   "execution_count": null,
   "metadata": {
    "colab": {},
    "colab_type": "code",
    "executionInfo": {
     "elapsed": 354,
     "status": "ok",
     "timestamp": 1596381990374,
     "user": {
      "displayName": "Mehmet Sarica",
      "photoUrl": "https://lh3.googleusercontent.com/a-/AOh14GgCuzQw6Y_vvJ758677QLAVqBCmoWsklimab8_h=s64",
      "userId": "16793427156829347948"
     },
     "user_tz": 240
    },
    "id": "xUSez5oIx60h"
   },
   "outputs": [],
   "source": [
    "from chatterbot import ChatBot"
   ]
  },
  {
   "cell_type": "code",
   "execution_count": null,
   "metadata": {
    "colab": {},
    "colab_type": "code",
    "executionInfo": {
     "elapsed": 330,
     "status": "ok",
     "timestamp": 1596382000527,
     "user": {
      "displayName": "Mehmet Sarica",
      "photoUrl": "https://lh3.googleusercontent.com/a-/AOh14GgCuzQw6Y_vvJ758677QLAVqBCmoWsklimab8_h=s64",
      "userId": "16793427156829347948"
     },
     "user_tz": 240
    },
    "id": "XIGNYTVuyAu9"
   },
   "outputs": [],
   "source": [
    "from chatterbot.trainers import ListTrainer"
   ]
  },
  {
   "cell_type": "code",
   "execution_count": null,
   "metadata": {
    "colab": {
     "base_uri": "https://localhost:8080/",
     "height": 119
    },
    "colab_type": "code",
    "executionInfo": {
     "elapsed": 279,
     "status": "ok",
     "timestamp": 1596383177447,
     "user": {
      "displayName": "Mehmet Sarica",
      "photoUrl": "https://lh3.googleusercontent.com/a-/AOh14GgCuzQw6Y_vvJ758677QLAVqBCmoWsklimab8_h=s64",
      "userId": "16793427156829347948"
     },
     "user_tz": 240
    },
    "id": "5DdDPMrHyDQZ",
    "outputId": "e8ada2e1-bf36-4ace-c39e-ea36bc1aef60"
   },
   "outputs": [],
   "source": [
    "your_bot=ChatBot(\n",
    "    name='PyBot', \n",
    "    read_only=True,\n",
    "    logic_adapters=['chatterbot.logic.MathematicalEvaluation', 'chatterbot.logic.BestMatch']\n",
    "    )"
   ]
  },
  {
   "cell_type": "code",
   "execution_count": null,
   "metadata": {
    "colab": {},
    "colab_type": "code",
    "executionInfo": {
     "elapsed": 299,
     "status": "ok",
     "timestamp": 1596383178431,
     "user": {
      "displayName": "Mehmet Sarica",
      "photoUrl": "https://lh3.googleusercontent.com/a-/AOh14GgCuzQw6Y_vvJ758677QLAVqBCmoWsklimab8_h=s64",
      "userId": "16793427156829347948"
     },
     "user_tz": 240
    },
    "id": "OtY04Mlmyc7R"
   },
   "outputs": [],
   "source": [
    "greatings = ['hi','hello', 'how are you?','i am fine', 'nice to talk to you']\n",
    "fruit=['banana is a fruit', 'it is a yellow fruit']\n",
    "veggie=['egg plant','this is a black vegetable']"
   ]
  },
  {
   "cell_type": "code",
   "execution_count": null,
   "metadata": {
    "colab": {
     "base_uri": "https://localhost:8080/",
     "height": 68
    },
    "colab_type": "code",
    "executionInfo": {
     "elapsed": 276,
     "status": "ok",
     "timestamp": 1596383179229,
     "user": {
      "displayName": "Mehmet Sarica",
      "photoUrl": "https://lh3.googleusercontent.com/a-/AOh14GgCuzQw6Y_vvJ758677QLAVqBCmoWsklimab8_h=s64",
      "userId": "16793427156829347948"
     },
     "user_tz": 240
    },
    "id": "KZ5eirMszWYf",
    "outputId": "234fc94a-4d14-47df-a898-eff037c0d219"
   },
   "outputs": [],
   "source": [
    "train_yourbot = ListTrainer(your_bot)\n",
    "for i in (greatings, fruit, veggie):\n",
    "  train_yourbot.train(i)"
   ]
  },
  {
   "cell_type": "code",
   "execution_count": null,
   "metadata": {
    "colab": {
     "base_uri": "https://localhost:8080/",
     "height": 35
    },
    "colab_type": "code",
    "executionInfo": {
     "elapsed": 279,
     "status": "ok",
     "timestamp": 1596383180132,
     "user": {
      "displayName": "Mehmet Sarica",
      "photoUrl": "https://lh3.googleusercontent.com/a-/AOh14GgCuzQw6Y_vvJ758677QLAVqBCmoWsklimab8_h=s64",
      "userId": "16793427156829347948"
     },
     "user_tz": 240
    },
    "id": "img5UAcqzYpa",
    "outputId": "8206e6d2-945b-429a-bd3e-e39789b6a942"
   },
   "outputs": [],
   "source": [
    "your_bot.get_response('can you explain to me what banana').text"
   ]
  },
  {
   "cell_type": "code",
   "execution_count": null,
   "metadata": {
    "colab": {},
    "colab_type": "code",
    "executionInfo": {
     "elapsed": 333,
     "status": "ok",
     "timestamp": 1596382788589,
     "user": {
      "displayName": "Mehmet Sarica",
      "photoUrl": "https://lh3.googleusercontent.com/a-/AOh14GgCuzQw6Y_vvJ758677QLAVqBCmoWsklimab8_h=s64",
      "userId": "16793427156829347948"
     },
     "user_tz": 240
    },
    "id": "LMfBP2nL0psL"
   },
   "outputs": [],
   "source": []
  }
 ],
 "metadata": {
  "colab": {
   "authorship_tag": "ABX9TyO59geK+Shgny/sXqBxL8Dp",
   "collapsed_sections": [],
   "mount_file_id": "1J5XsWWdS_HvfFQXrzkNrlt0iUjapsM4K",
   "name": "chatbot",
   "provenance": []
  },
  "kernelspec": {
   "display_name": "Python 3",
   "language": "python",
   "name": "python3"
  },
  "language_info": {
   "codemirror_mode": {
    "name": "ipython",
    "version": 3
   },
   "file_extension": ".py",
   "mimetype": "text/x-python",
   "name": "python",
   "nbconvert_exporter": "python",
   "pygments_lexer": "ipython3",
   "version": "3.7.4"
  }
 },
 "nbformat": 4,
 "nbformat_minor": 1
}
