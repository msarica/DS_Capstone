{
 "cells": [
  {
   "cell_type": "code",
   "execution_count": null,
   "metadata": {
    "colab": {
     "base_uri": "https://localhost:8080/",
     "height": 71
    },
    "colab_type": "code",
    "executionInfo": {
     "elapsed": 3505,
     "status": "ok",
     "timestamp": 1596380790046,
     "user": {
      "displayName": "Mehmet Sarica",
      "photoUrl": "https://lh3.googleusercontent.com/a-/AOh14GgCuzQw6Y_vvJ758677QLAVqBCmoWsklimab8_h=s64",
      "userId": "16793427156829347948"
     },
     "user_tz": 240
    },
    "id": "gzPztWscsyxV",
    "outputId": "78fddf6f-ba7e-4584-820b-5b21d0476672"
   },
   "outputs": [],
   "source": [
    "# https://chatterbot.readthedocs.io/en/stable/training.html\n",
    "\n",
    "# !pip install nltk"
   ]
  },
  {
   "cell_type": "code",
   "execution_count": 1,
   "metadata": {
    "colab": {},
    "colab_type": "code",
    "executionInfo": {
     "elapsed": 1242,
     "status": "ok",
     "timestamp": 1596381002092,
     "user": {
      "displayName": "Mehmet Sarica",
      "photoUrl": "https://lh3.googleusercontent.com/a-/AOh14GgCuzQw6Y_vvJ758677QLAVqBCmoWsklimab8_h=s64",
      "userId": "16793427156829347948"
     },
     "user_tz": 240
    },
    "id": "EGB1nLDMta86"
   },
   "outputs": [],
   "source": [
    "import nltk"
   ]
  },
  {
   "cell_type": "code",
   "execution_count": 2,
   "metadata": {
    "colab": {
     "base_uri": "https://localhost:8080/",
     "height": 1000
    },
    "colab_type": "code",
    "executionInfo": {
     "elapsed": 319001,
     "status": "ok",
     "timestamp": 1596381325220,
     "user": {
      "displayName": "Mehmet Sarica",
      "photoUrl": "https://lh3.googleusercontent.com/a-/AOh14GgCuzQw6Y_vvJ758677QLAVqBCmoWsklimab8_h=s64",
      "userId": "16793427156829347948"
     },
     "user_tz": 240
    },
    "id": "LhIc6AUfuPRi",
    "outputId": "792a1658-0f58-449a-ce4e-99c5fc608c75"
   },
   "outputs": [],
   "source": [
    "# nltk.download()"
   ]
  },
  {
   "cell_type": "code",
   "execution_count": 3,
   "metadata": {
    "colab": {
     "base_uri": "https://localhost:8080/",
     "height": 34
    },
    "colab_type": "code",
    "executionInfo": {
     "elapsed": 284,
     "status": "ok",
     "timestamp": 1596381747637,
     "user": {
      "displayName": "Mehmet Sarica",
      "photoUrl": "https://lh3.googleusercontent.com/a-/AOh14GgCuzQw6Y_vvJ758677QLAVqBCmoWsklimab8_h=s64",
      "userId": "16793427156829347948"
     },
     "user_tz": 240
    },
    "id": "V5ECmCikwSkw",
    "outputId": "4659696c-2beb-4e28-e08e-dea379204c4a"
   },
   "outputs": [],
   "source": [
    "# from nltk.stem import PorterStemmer\n",
    "# from nltk.tokenize import word_tokenize\n",
    "\n",
    "# ps = PorterStemmer()\n",
    "\n",
    "# words = [ps.stem(w) for w in word_tokenize(text)]\n",
    "# words"
   ]
  },
  {
   "cell_type": "code",
   "execution_count": 4,
   "metadata": {
    "colab": {
     "base_uri": "https://localhost:8080/",
     "height": 1000
    },
    "colab_type": "code",
    "executionInfo": {
     "elapsed": 65617,
     "status": "ok",
     "timestamp": 1596381885972,
     "user": {
      "displayName": "Mehmet Sarica",
      "photoUrl": "https://lh3.googleusercontent.com/a-/AOh14GgCuzQw6Y_vvJ758677QLAVqBCmoWsklimab8_h=s64",
      "userId": "16793427156829347948"
     },
     "user_tz": 240
    },
    "id": "CM_DBsCuw3PM",
    "outputId": "8428bf8e-26ba-4e88-eabe-359310c7b43b"
   },
   "outputs": [
    {
     "name": "stdout",
     "output_type": "stream",
     "text": [
      "Requirement already satisfied: chatterbot in /Users/msarica/anaconda3/lib/python3.7/site-packages (1.0.5)\n",
      "Requirement already satisfied: spacy<2.2,>=2.1 in /Users/msarica/anaconda3/lib/python3.7/site-packages (from chatterbot) (2.1.9)\n",
      "Requirement already satisfied: pyyaml<5.2,>=5.1 in /Users/msarica/anaconda3/lib/python3.7/site-packages (from chatterbot) (5.1.2)\n",
      "Requirement already satisfied: sqlalchemy<1.3,>=1.2 in /Users/msarica/anaconda3/lib/python3.7/site-packages (from chatterbot) (1.2.19)\n",
      "Requirement already satisfied: python-dateutil<2.8,>=2.7 in /Users/msarica/anaconda3/lib/python3.7/site-packages (from chatterbot) (2.7.5)\n",
      "Requirement already satisfied: mathparse<0.2,>=0.1 in /Users/msarica/anaconda3/lib/python3.7/site-packages (from chatterbot) (0.1.2)\n",
      "Requirement already satisfied: nltk<4.0,>=3.2 in /Users/msarica/anaconda3/lib/python3.7/site-packages (from chatterbot) (3.4.5)\n",
      "Requirement already satisfied: pymongo<4.0,>=3.3 in /Users/msarica/anaconda3/lib/python3.7/site-packages (from chatterbot) (3.11.0)\n",
      "Requirement already satisfied: pint>=0.8.1 in /Users/msarica/anaconda3/lib/python3.7/site-packages (from chatterbot) (0.14)\n",
      "Requirement already satisfied: pytz in /Users/msarica/anaconda3/lib/python3.7/site-packages (from chatterbot) (2019.3)\n",
      "Requirement already satisfied: cymem<2.1.0,>=2.0.2 in /Users/msarica/anaconda3/lib/python3.7/site-packages (from spacy<2.2,>=2.1->chatterbot) (2.0.3)\n",
      "Requirement already satisfied: requests<3.0.0,>=2.13.0 in /Users/msarica/anaconda3/lib/python3.7/site-packages (from spacy<2.2,>=2.1->chatterbot) (2.22.0)\n",
      "Requirement already satisfied: blis<0.3.0,>=0.2.2 in /Users/msarica/anaconda3/lib/python3.7/site-packages (from spacy<2.2,>=2.1->chatterbot) (0.2.4)\n",
      "Requirement already satisfied: preshed<2.1.0,>=2.0.1 in /Users/msarica/anaconda3/lib/python3.7/site-packages (from spacy<2.2,>=2.1->chatterbot) (2.0.1)\n",
      "Requirement already satisfied: thinc<7.1.0,>=7.0.8 in /Users/msarica/anaconda3/lib/python3.7/site-packages (from spacy<2.2,>=2.1->chatterbot) (7.0.8)\n",
      "Requirement already satisfied: srsly<1.1.0,>=0.0.6 in /Users/msarica/anaconda3/lib/python3.7/site-packages (from spacy<2.2,>=2.1->chatterbot) (1.0.2)\n",
      "Requirement already satisfied: numpy>=1.15.0 in /Users/msarica/anaconda3/lib/python3.7/site-packages (from spacy<2.2,>=2.1->chatterbot) (1.17.2)\n",
      "Requirement already satisfied: wasabi<1.1.0,>=0.2.0 in /Users/msarica/anaconda3/lib/python3.7/site-packages (from spacy<2.2,>=2.1->chatterbot) (0.7.1)\n",
      "Requirement already satisfied: murmurhash<1.1.0,>=0.28.0 in /Users/msarica/anaconda3/lib/python3.7/site-packages (from spacy<2.2,>=2.1->chatterbot) (1.0.2)\n",
      "Requirement already satisfied: plac<1.0.0,>=0.9.6 in /Users/msarica/anaconda3/lib/python3.7/site-packages (from spacy<2.2,>=2.1->chatterbot) (0.9.6)\n",
      "Requirement already satisfied: six>=1.5 in /Users/msarica/anaconda3/lib/python3.7/site-packages (from python-dateutil<2.8,>=2.7->chatterbot) (1.12.0)\n",
      "Requirement already satisfied: importlib-metadata; python_version < \"3.8\" in /Users/msarica/anaconda3/lib/python3.7/site-packages (from pint>=0.8.1->chatterbot) (0.23)\n",
      "Requirement already satisfied: packaging in /Users/msarica/anaconda3/lib/python3.7/site-packages (from pint>=0.8.1->chatterbot) (19.2)\n",
      "Requirement already satisfied: setuptools in /Users/msarica/anaconda3/lib/python3.7/site-packages (from pint>=0.8.1->chatterbot) (41.4.0)\n",
      "Requirement already satisfied: urllib3!=1.25.0,!=1.25.1,<1.26,>=1.21.1 in /Users/msarica/anaconda3/lib/python3.7/site-packages (from requests<3.0.0,>=2.13.0->spacy<2.2,>=2.1->chatterbot) (1.24.2)\n",
      "Requirement already satisfied: certifi>=2017.4.17 in /Users/msarica/anaconda3/lib/python3.7/site-packages (from requests<3.0.0,>=2.13.0->spacy<2.2,>=2.1->chatterbot) (2019.9.11)\n",
      "Requirement already satisfied: idna<2.9,>=2.5 in /Users/msarica/anaconda3/lib/python3.7/site-packages (from requests<3.0.0,>=2.13.0->spacy<2.2,>=2.1->chatterbot) (2.8)\n",
      "Requirement already satisfied: chardet<3.1.0,>=3.0.2 in /Users/msarica/anaconda3/lib/python3.7/site-packages (from requests<3.0.0,>=2.13.0->spacy<2.2,>=2.1->chatterbot) (3.0.4)\n",
      "Requirement already satisfied: tqdm<5.0.0,>=4.10.0 in /Users/msarica/anaconda3/lib/python3.7/site-packages (from thinc<7.1.0,>=7.0.8->spacy<2.2,>=2.1->chatterbot) (4.36.1)\n",
      "Requirement already satisfied: zipp>=0.5 in /Users/msarica/anaconda3/lib/python3.7/site-packages (from importlib-metadata; python_version < \"3.8\"->pint>=0.8.1->chatterbot) (0.6.0)\n",
      "Requirement already satisfied: pyparsing>=2.0.2 in /Users/msarica/anaconda3/lib/python3.7/site-packages (from packaging->pint>=0.8.1->chatterbot) (2.4.2)\n",
      "Requirement already satisfied: more-itertools in /Users/msarica/anaconda3/lib/python3.7/site-packages (from zipp>=0.5->importlib-metadata; python_version < \"3.8\"->pint>=0.8.1->chatterbot) (7.2.0)\n"
     ]
    }
   ],
   "source": [
    "!pip install chatterbot"
   ]
  },
  {
   "cell_type": "code",
   "execution_count": 10,
   "metadata": {
    "colab": {
     "base_uri": "https://localhost:8080/",
     "height": 326
    },
    "colab_type": "code",
    "executionInfo": {
     "elapsed": 4978,
     "status": "ok",
     "timestamp": 1596381893603,
     "user": {
      "displayName": "Mehmet Sarica",
      "photoUrl": "https://lh3.googleusercontent.com/a-/AOh14GgCuzQw6Y_vvJ758677QLAVqBCmoWsklimab8_h=s64",
      "userId": "16793427156829347948"
     },
     "user_tz": 240
    },
    "id": "OHzFTfMQxXWd",
    "outputId": "e497ded3-b154-4eaa-ba92-0080aa6c04b9"
   },
   "outputs": [
    {
     "name": "stdout",
     "output_type": "stream",
     "text": [
      "Requirement already satisfied: chatterbot_corpus in /Users/msarica/anaconda3/lib/python3.7/site-packages (1.2.0)\n",
      "Processing /Users/msarica/Library/Caches/pip/wheels/ad/da/0c/74eb680767247273e2cf2723482cb9c924fe70af57c334513f/PyYAML-3.13-cp37-cp37m-macosx_10_9_x86_64.whl\n",
      "Installing collected packages: PyYAML\n",
      "  Attempting uninstall: PyYAML\n",
      "    Found existing installation: PyYAML 5.1.2\n",
      "\u001b[31mERROR: Cannot uninstall 'PyYAML'. It is a distutils installed project and thus we cannot accurately determine which files belong to it which would lead to only a partial uninstall.\u001b[0m\n"
     ]
    }
   ],
   "source": [
    "!pip3 install chatterbot_corpus"
   ]
  },
  {
   "cell_type": "code",
   "execution_count": 6,
   "metadata": {
    "colab": {
     "base_uri": "https://localhost:8080/",
     "height": 71
    },
    "colab_type": "code",
    "executionInfo": {
     "elapsed": 3001,
     "status": "ok",
     "timestamp": 1596381926597,
     "user": {
      "displayName": "Mehmet Sarica",
      "photoUrl": "https://lh3.googleusercontent.com/a-/AOh14GgCuzQw6Y_vvJ758677QLAVqBCmoWsklimab8_h=s64",
      "userId": "16793427156829347948"
     },
     "user_tz": 240
    },
    "id": "D7CSKNNlxoBE",
    "outputId": "ce05c4eb-31ba-4bcc-f8df-6cbfad7cfd8f"
   },
   "outputs": [
    {
     "name": "stdout",
     "output_type": "stream",
     "text": [
      "Collecting chatterbot_corpus\n",
      "  Using cached chatterbot_corpus-1.2.0-py2.py3-none-any.whl (117 kB)\n",
      "Processing /Users/msarica/Library/Caches/pip/wheels/ad/da/0c/74eb680767247273e2cf2723482cb9c924fe70af57c334513f/PyYAML-3.13-cp37-cp37m-macosx_10_9_x86_64.whl\n",
      "Installing collected packages: PyYAML, chatterbot-corpus\n",
      "  Attempting uninstall: PyYAML\n",
      "    Found existing installation: PyYAML 5.1.2\n",
      "\u001b[31mERROR: Cannot uninstall 'PyYAML'. It is a distutils installed project and thus we cannot accurately determine which files belong to it which would lead to only a partial uninstall.\u001b[0m\n"
     ]
    }
   ],
   "source": [
    "!pip install --upgrade chatterbot_corpus "
   ]
  },
  {
   "cell_type": "code",
   "execution_count": null,
   "metadata": {
    "colab": {
     "base_uri": "https://localhost:8080/",
     "height": 666
    },
    "colab_type": "code",
    "executionInfo": {
     "elapsed": 3505,
     "status": "ok",
     "timestamp": 1596381969150,
     "user": {
      "displayName": "Mehmet Sarica",
      "photoUrl": "https://lh3.googleusercontent.com/a-/AOh14GgCuzQw6Y_vvJ758677QLAVqBCmoWsklimab8_h=s64",
      "userId": "16793427156829347948"
     },
     "user_tz": 240
    },
    "id": "R9Z8G2Sfxwjg",
    "outputId": "cd75937e-7f9e-49ad-dfd7-ab3c89000ce0"
   },
   "outputs": [],
   "source": [
    "!pip install --upgrade chatterbot"
   ]
  },
  {
   "cell_type": "code",
   "execution_count": 7,
   "metadata": {
    "colab": {},
    "colab_type": "code",
    "executionInfo": {
     "elapsed": 354,
     "status": "ok",
     "timestamp": 1596381990374,
     "user": {
      "displayName": "Mehmet Sarica",
      "photoUrl": "https://lh3.googleusercontent.com/a-/AOh14GgCuzQw6Y_vvJ758677QLAVqBCmoWsklimab8_h=s64",
      "userId": "16793427156829347948"
     },
     "user_tz": 240
    },
    "id": "xUSez5oIx60h"
   },
   "outputs": [
    {
     "ename": "ModuleNotFoundError",
     "evalue": "No module named 'chatterbot_corpus'",
     "output_type": "error",
     "traceback": [
      "\u001b[0;31m---------------------------------------------------------------------------\u001b[0m",
      "\u001b[0;31mModuleNotFoundError\u001b[0m                       Traceback (most recent call last)",
      "\u001b[0;32m<ipython-input-7-22d2a9e85e25>\u001b[0m in \u001b[0;36m<module>\u001b[0;34m\u001b[0m\n\u001b[0;32m----> 1\u001b[0;31m \u001b[0;32mfrom\u001b[0m \u001b[0mchatterbot\u001b[0m \u001b[0;32mimport\u001b[0m \u001b[0mChatBot\u001b[0m\u001b[0;34m\u001b[0m\u001b[0;34m\u001b[0m\u001b[0m\n\u001b[0m",
      "\u001b[0;32m~/anaconda3/lib/python3.7/site-packages/chatterbot/__init__.py\u001b[0m in \u001b[0;36m<module>\u001b[0;34m\u001b[0m\n\u001b[1;32m      2\u001b[0m \u001b[0mChatterBot\u001b[0m \u001b[0;32mis\u001b[0m \u001b[0ma\u001b[0m \u001b[0mmachine\u001b[0m \u001b[0mlearning\u001b[0m\u001b[0;34m,\u001b[0m \u001b[0mconversational\u001b[0m \u001b[0mdialog\u001b[0m \u001b[0mengine\u001b[0m\u001b[0;34m.\u001b[0m\u001b[0;34m\u001b[0m\u001b[0;34m\u001b[0m\u001b[0m\n\u001b[1;32m      3\u001b[0m \"\"\"\n\u001b[0;32m----> 4\u001b[0;31m \u001b[0;32mfrom\u001b[0m \u001b[0;34m.\u001b[0m\u001b[0mchatterbot\u001b[0m \u001b[0;32mimport\u001b[0m \u001b[0mChatBot\u001b[0m\u001b[0;34m\u001b[0m\u001b[0;34m\u001b[0m\u001b[0m\n\u001b[0m\u001b[1;32m      5\u001b[0m \u001b[0;34m\u001b[0m\u001b[0m\n\u001b[1;32m      6\u001b[0m \u001b[0m__version__\u001b[0m \u001b[0;34m=\u001b[0m \u001b[0;34m'1.0.5'\u001b[0m\u001b[0;34m\u001b[0m\u001b[0;34m\u001b[0m\u001b[0m\n",
      "\u001b[0;32m~/anaconda3/lib/python3.7/site-packages/chatterbot/chatterbot.py\u001b[0m in \u001b[0;36m<module>\u001b[0;34m\u001b[0m\n\u001b[1;32m      1\u001b[0m \u001b[0;32mimport\u001b[0m \u001b[0mlogging\u001b[0m\u001b[0;34m\u001b[0m\u001b[0;34m\u001b[0m\u001b[0m\n\u001b[0;32m----> 2\u001b[0;31m \u001b[0;32mfrom\u001b[0m \u001b[0mchatterbot\u001b[0m\u001b[0;34m.\u001b[0m\u001b[0mstorage\u001b[0m \u001b[0;32mimport\u001b[0m \u001b[0mStorageAdapter\u001b[0m\u001b[0;34m\u001b[0m\u001b[0;34m\u001b[0m\u001b[0m\n\u001b[0m\u001b[1;32m      3\u001b[0m \u001b[0;32mfrom\u001b[0m \u001b[0mchatterbot\u001b[0m\u001b[0;34m.\u001b[0m\u001b[0mlogic\u001b[0m \u001b[0;32mimport\u001b[0m \u001b[0mLogicAdapter\u001b[0m\u001b[0;34m\u001b[0m\u001b[0;34m\u001b[0m\u001b[0m\n\u001b[1;32m      4\u001b[0m \u001b[0;32mfrom\u001b[0m \u001b[0mchatterbot\u001b[0m\u001b[0;34m.\u001b[0m\u001b[0msearch\u001b[0m \u001b[0;32mimport\u001b[0m \u001b[0mIndexedTextSearch\u001b[0m\u001b[0;34m\u001b[0m\u001b[0;34m\u001b[0m\u001b[0m\n\u001b[1;32m      5\u001b[0m \u001b[0;32mfrom\u001b[0m \u001b[0mchatterbot\u001b[0m \u001b[0;32mimport\u001b[0m \u001b[0mutils\u001b[0m\u001b[0;34m\u001b[0m\u001b[0;34m\u001b[0m\u001b[0m\n",
      "\u001b[0;32m~/anaconda3/lib/python3.7/site-packages/chatterbot/storage/__init__.py\u001b[0m in \u001b[0;36m<module>\u001b[0;34m\u001b[0m\n\u001b[0;32m----> 1\u001b[0;31m \u001b[0;32mfrom\u001b[0m \u001b[0mchatterbot\u001b[0m\u001b[0;34m.\u001b[0m\u001b[0mstorage\u001b[0m\u001b[0;34m.\u001b[0m\u001b[0mstorage_adapter\u001b[0m \u001b[0;32mimport\u001b[0m \u001b[0mStorageAdapter\u001b[0m\u001b[0;34m\u001b[0m\u001b[0;34m\u001b[0m\u001b[0m\n\u001b[0m\u001b[1;32m      2\u001b[0m \u001b[0;32mfrom\u001b[0m \u001b[0mchatterbot\u001b[0m\u001b[0;34m.\u001b[0m\u001b[0mstorage\u001b[0m\u001b[0;34m.\u001b[0m\u001b[0mdjango_storage\u001b[0m \u001b[0;32mimport\u001b[0m \u001b[0mDjangoStorageAdapter\u001b[0m\u001b[0;34m\u001b[0m\u001b[0;34m\u001b[0m\u001b[0m\n\u001b[1;32m      3\u001b[0m \u001b[0;32mfrom\u001b[0m \u001b[0mchatterbot\u001b[0m\u001b[0;34m.\u001b[0m\u001b[0mstorage\u001b[0m\u001b[0;34m.\u001b[0m\u001b[0mmongodb\u001b[0m \u001b[0;32mimport\u001b[0m \u001b[0mMongoDatabaseAdapter\u001b[0m\u001b[0;34m\u001b[0m\u001b[0;34m\u001b[0m\u001b[0m\n\u001b[1;32m      4\u001b[0m \u001b[0;32mfrom\u001b[0m \u001b[0mchatterbot\u001b[0m\u001b[0;34m.\u001b[0m\u001b[0mstorage\u001b[0m\u001b[0;34m.\u001b[0m\u001b[0msql_storage\u001b[0m \u001b[0;32mimport\u001b[0m \u001b[0mSQLStorageAdapter\u001b[0m\u001b[0;34m\u001b[0m\u001b[0;34m\u001b[0m\u001b[0m\n\u001b[1;32m      5\u001b[0m \u001b[0;34m\u001b[0m\u001b[0m\n",
      "\u001b[0;32m~/anaconda3/lib/python3.7/site-packages/chatterbot/storage/storage_adapter.py\u001b[0m in \u001b[0;36m<module>\u001b[0;34m\u001b[0m\n\u001b[1;32m      1\u001b[0m \u001b[0;32mimport\u001b[0m \u001b[0mlogging\u001b[0m\u001b[0;34m\u001b[0m\u001b[0;34m\u001b[0m\u001b[0m\n\u001b[1;32m      2\u001b[0m \u001b[0;32mfrom\u001b[0m \u001b[0mchatterbot\u001b[0m \u001b[0;32mimport\u001b[0m \u001b[0mlanguages\u001b[0m\u001b[0;34m\u001b[0m\u001b[0;34m\u001b[0m\u001b[0m\n\u001b[0;32m----> 3\u001b[0;31m \u001b[0;32mfrom\u001b[0m \u001b[0mchatterbot\u001b[0m\u001b[0;34m.\u001b[0m\u001b[0mtagging\u001b[0m \u001b[0;32mimport\u001b[0m \u001b[0mPosHypernymTagger\u001b[0m\u001b[0;34m\u001b[0m\u001b[0;34m\u001b[0m\u001b[0m\n\u001b[0m\u001b[1;32m      4\u001b[0m \u001b[0;34m\u001b[0m\u001b[0m\n\u001b[1;32m      5\u001b[0m \u001b[0;34m\u001b[0m\u001b[0m\n",
      "\u001b[0;32m~/anaconda3/lib/python3.7/site-packages/chatterbot/tagging.py\u001b[0m in \u001b[0;36m<module>\u001b[0;34m\u001b[0m\n\u001b[1;32m      2\u001b[0m \u001b[0;32mfrom\u001b[0m \u001b[0mchatterbot\u001b[0m \u001b[0;32mimport\u001b[0m \u001b[0mlanguages\u001b[0m\u001b[0;34m\u001b[0m\u001b[0;34m\u001b[0m\u001b[0m\n\u001b[1;32m      3\u001b[0m \u001b[0;32mfrom\u001b[0m \u001b[0mchatterbot\u001b[0m \u001b[0;32mimport\u001b[0m \u001b[0mutils\u001b[0m\u001b[0;34m\u001b[0m\u001b[0;34m\u001b[0m\u001b[0m\n\u001b[0;32m----> 4\u001b[0;31m \u001b[0;32mfrom\u001b[0m \u001b[0mchatterbot\u001b[0m\u001b[0;34m.\u001b[0m\u001b[0mtokenizers\u001b[0m \u001b[0;32mimport\u001b[0m \u001b[0mget_sentence_tokenizer\u001b[0m\u001b[0;34m\u001b[0m\u001b[0;34m\u001b[0m\u001b[0m\n\u001b[0m\u001b[1;32m      5\u001b[0m \u001b[0;32mfrom\u001b[0m \u001b[0mnltk\u001b[0m \u001b[0;32mimport\u001b[0m \u001b[0mpos_tag\u001b[0m\u001b[0;34m\u001b[0m\u001b[0;34m\u001b[0m\u001b[0m\n\u001b[1;32m      6\u001b[0m \u001b[0;32mfrom\u001b[0m \u001b[0mnltk\u001b[0m\u001b[0;34m.\u001b[0m\u001b[0mcorpus\u001b[0m \u001b[0;32mimport\u001b[0m \u001b[0mwordnet\u001b[0m\u001b[0;34m,\u001b[0m \u001b[0mstopwords\u001b[0m\u001b[0;34m\u001b[0m\u001b[0;34m\u001b[0m\u001b[0m\n",
      "\u001b[0;32m~/anaconda3/lib/python3.7/site-packages/chatterbot/tokenizers.py\u001b[0m in \u001b[0;36m<module>\u001b[0;34m\u001b[0m\n\u001b[1;32m      2\u001b[0m \u001b[0;32mfrom\u001b[0m \u001b[0mnltk\u001b[0m\u001b[0;34m.\u001b[0m\u001b[0mtokenize\u001b[0m\u001b[0;34m.\u001b[0m\u001b[0mpunkt\u001b[0m \u001b[0;32mimport\u001b[0m \u001b[0mPunktSentenceTokenizer\u001b[0m\u001b[0;34m,\u001b[0m \u001b[0mPunktTrainer\u001b[0m\u001b[0;34m\u001b[0m\u001b[0;34m\u001b[0m\u001b[0m\n\u001b[1;32m      3\u001b[0m \u001b[0;32mfrom\u001b[0m \u001b[0mnltk\u001b[0m\u001b[0;34m.\u001b[0m\u001b[0mtokenize\u001b[0m \u001b[0;32mimport\u001b[0m \u001b[0m_treebank_word_tokenizer\u001b[0m\u001b[0;34m\u001b[0m\u001b[0;34m\u001b[0m\u001b[0m\n\u001b[0;32m----> 4\u001b[0;31m \u001b[0;32mfrom\u001b[0m \u001b[0mchatterbot\u001b[0m\u001b[0;34m.\u001b[0m\u001b[0mcorpus\u001b[0m \u001b[0;32mimport\u001b[0m \u001b[0mload_corpus\u001b[0m\u001b[0;34m,\u001b[0m \u001b[0mlist_corpus_files\u001b[0m\u001b[0;34m\u001b[0m\u001b[0;34m\u001b[0m\u001b[0m\n\u001b[0m\u001b[1;32m      5\u001b[0m \u001b[0;32mfrom\u001b[0m \u001b[0mchatterbot\u001b[0m \u001b[0;32mimport\u001b[0m \u001b[0mlanguages\u001b[0m\u001b[0;34m\u001b[0m\u001b[0;34m\u001b[0m\u001b[0m\n\u001b[1;32m      6\u001b[0m \u001b[0;34m\u001b[0m\u001b[0m\n",
      "\u001b[0;32m~/anaconda3/lib/python3.7/site-packages/chatterbot/corpus.py\u001b[0m in \u001b[0;36m<module>\u001b[0;34m\u001b[0m\n\u001b[1;32m      3\u001b[0m \u001b[0;32mimport\u001b[0m \u001b[0mglob\u001b[0m\u001b[0;34m\u001b[0m\u001b[0;34m\u001b[0m\u001b[0m\n\u001b[1;32m      4\u001b[0m \u001b[0;32mimport\u001b[0m \u001b[0myaml\u001b[0m\u001b[0;34m\u001b[0m\u001b[0;34m\u001b[0m\u001b[0m\n\u001b[0;32m----> 5\u001b[0;31m \u001b[0;32mfrom\u001b[0m \u001b[0mchatterbot_corpus\u001b[0m\u001b[0;34m.\u001b[0m\u001b[0mcorpus\u001b[0m \u001b[0;32mimport\u001b[0m \u001b[0mDATA_DIRECTORY\u001b[0m\u001b[0;34m\u001b[0m\u001b[0;34m\u001b[0m\u001b[0m\n\u001b[0m\u001b[1;32m      6\u001b[0m \u001b[0;34m\u001b[0m\u001b[0m\n\u001b[1;32m      7\u001b[0m \u001b[0;34m\u001b[0m\u001b[0m\n",
      "\u001b[0;31mModuleNotFoundError\u001b[0m: No module named 'chatterbot_corpus'"
     ]
    }
   ],
   "source": [
    "from chatterbot import ChatBot"
   ]
  },
  {
   "cell_type": "code",
   "execution_count": null,
   "metadata": {
    "colab": {},
    "colab_type": "code",
    "executionInfo": {
     "elapsed": 330,
     "status": "ok",
     "timestamp": 1596382000527,
     "user": {
      "displayName": "Mehmet Sarica",
      "photoUrl": "https://lh3.googleusercontent.com/a-/AOh14GgCuzQw6Y_vvJ758677QLAVqBCmoWsklimab8_h=s64",
      "userId": "16793427156829347948"
     },
     "user_tz": 240
    },
    "id": "XIGNYTVuyAu9"
   },
   "outputs": [],
   "source": [
    "from chatterbot.trainers import ListTrainer"
   ]
  },
  {
   "cell_type": "code",
   "execution_count": null,
   "metadata": {
    "colab": {
     "base_uri": "https://localhost:8080/",
     "height": 119
    },
    "colab_type": "code",
    "executionInfo": {
     "elapsed": 279,
     "status": "ok",
     "timestamp": 1596383177447,
     "user": {
      "displayName": "Mehmet Sarica",
      "photoUrl": "https://lh3.googleusercontent.com/a-/AOh14GgCuzQw6Y_vvJ758677QLAVqBCmoWsklimab8_h=s64",
      "userId": "16793427156829347948"
     },
     "user_tz": 240
    },
    "id": "5DdDPMrHyDQZ",
    "outputId": "e8ada2e1-bf36-4ace-c39e-ea36bc1aef60"
   },
   "outputs": [],
   "source": [
    "your_bot=ChatBot(\n",
    "    name='PyBot', \n",
    "    read_only=True,\n",
    "    logic_adapters=['chatterbot.logic.MathematicalEvaluation', 'chatterbot.logic.BestMatch']\n",
    "    )"
   ]
  },
  {
   "cell_type": "code",
   "execution_count": null,
   "metadata": {
    "colab": {},
    "colab_type": "code",
    "executionInfo": {
     "elapsed": 299,
     "status": "ok",
     "timestamp": 1596383178431,
     "user": {
      "displayName": "Mehmet Sarica",
      "photoUrl": "https://lh3.googleusercontent.com/a-/AOh14GgCuzQw6Y_vvJ758677QLAVqBCmoWsklimab8_h=s64",
      "userId": "16793427156829347948"
     },
     "user_tz": 240
    },
    "id": "OtY04Mlmyc7R"
   },
   "outputs": [],
   "source": [
    "greatings = ['hi','hello', 'how are you?','i am fine', 'nice to talk to you']\n",
    "fruit=['banana is a fruit', 'it is a yellow fruit']\n",
    "veggie=['egg plant','this is a black vegetable']"
   ]
  },
  {
   "cell_type": "code",
   "execution_count": null,
   "metadata": {
    "colab": {
     "base_uri": "https://localhost:8080/",
     "height": 68
    },
    "colab_type": "code",
    "executionInfo": {
     "elapsed": 276,
     "status": "ok",
     "timestamp": 1596383179229,
     "user": {
      "displayName": "Mehmet Sarica",
      "photoUrl": "https://lh3.googleusercontent.com/a-/AOh14GgCuzQw6Y_vvJ758677QLAVqBCmoWsklimab8_h=s64",
      "userId": "16793427156829347948"
     },
     "user_tz": 240
    },
    "id": "KZ5eirMszWYf",
    "outputId": "234fc94a-4d14-47df-a898-eff037c0d219"
   },
   "outputs": [],
   "source": [
    "train_yourbot = ListTrainer(your_bot)\n",
    "for i in (greatings, fruit, veggie):\n",
    "      train_yourbot.train(i)"
   ]
  },
  {
   "cell_type": "code",
   "execution_count": null,
   "metadata": {
    "colab": {
     "base_uri": "https://localhost:8080/",
     "height": 35
    },
    "colab_type": "code",
    "executionInfo": {
     "elapsed": 279,
     "status": "ok",
     "timestamp": 1596383180132,
     "user": {
      "displayName": "Mehmet Sarica",
      "photoUrl": "https://lh3.googleusercontent.com/a-/AOh14GgCuzQw6Y_vvJ758677QLAVqBCmoWsklimab8_h=s64",
      "userId": "16793427156829347948"
     },
     "user_tz": 240
    },
    "id": "img5UAcqzYpa",
    "outputId": "8206e6d2-945b-429a-bd3e-e39789b6a942"
   },
   "outputs": [],
   "source": [
    "your_bot.get_response('can you explain to me what banana').text"
   ]
  },
  {
   "cell_type": "code",
   "execution_count": null,
   "metadata": {
    "colab": {},
    "colab_type": "code",
    "executionInfo": {
     "elapsed": 333,
     "status": "ok",
     "timestamp": 1596382788589,
     "user": {
      "displayName": "Mehmet Sarica",
      "photoUrl": "https://lh3.googleusercontent.com/a-/AOh14GgCuzQw6Y_vvJ758677QLAVqBCmoWsklimab8_h=s64",
      "userId": "16793427156829347948"
     },
     "user_tz": 240
    },
    "id": "LMfBP2nL0psL"
   },
   "outputs": [],
   "source": []
  }
 ],
 "metadata": {
  "colab": {
   "authorship_tag": "ABX9TyO59geK+Shgny/sXqBxL8Dp",
   "collapsed_sections": [],
   "mount_file_id": "1J5XsWWdS_HvfFQXrzkNrlt0iUjapsM4K",
   "name": "chatbot",
   "provenance": []
  },
  "kernelspec": {
   "display_name": "Python 3",
   "language": "python",
   "name": "python3"
  },
  "language_info": {
   "codemirror_mode": {
    "name": "ipython",
    "version": 3
   },
   "file_extension": ".py",
   "mimetype": "text/x-python",
   "name": "python",
   "nbconvert_exporter": "python",
   "pygments_lexer": "ipython3",
   "version": "3.7.4"
  }
 },
 "nbformat": 4,
 "nbformat_minor": 1
}
