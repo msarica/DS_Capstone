{
 "cells": [
  {
   "cell_type": "code",
   "execution_count": 174,
   "metadata": {},
   "outputs": [],
   "source": [
    "import pickle\n",
    "import numpy as np\n",
    "import pandas as pd\n",
    "from sklearn.model_selection import train_test_split\n",
    "from sklearn.feature_extraction.text import CountVectorizer, TfidfVectorizer\n",
    "from sklearn.metrics import roc_auc_score, accuracy_score, f1_score, precision_score, recall_score\n",
    "from sklearn.model_selection import KFold\n",
    "from sklearn import svm\n",
    "\n",
    "import matplotlib.pyplot as plt"
   ]
  },
  {
   "cell_type": "code",
   "execution_count": 175,
   "metadata": {},
   "outputs": [],
   "source": [
    "# utility function to read from a text file\n",
    "def read_file(filename):\n",
    "    with open(filename) as file:\n",
    "        lines = file.readlines()\n",
    "        clean = [x.strip().lower() for x in lines if x.strip()!=\"\"]\n",
    "        return clean"
   ]
  },
  {
   "cell_type": "code",
   "execution_count": 209,
   "metadata": {},
   "outputs": [],
   "source": [
    "# prapares the dataset.\n",
    "from functools import reduce\n",
    "from math import gcd\n",
    "\n",
    "def prepare_dataset(balance=False):\n",
    "    sentence = 'sentence'\n",
    "    category = 'category'\n",
    "    def prepare_df(file):\n",
    "        df = pd.read_csv(file, header=None, names=[sentence, category])\n",
    "        return df\n",
    "    \n",
    "    main_df = None\n",
    "    \n",
    "    df = prepare_df('dataset.csv')\n",
    "    categories = df[category].value_counts()\n",
    "    \n",
    "    gcd_num = reduce(gcd, list(categories))\n",
    "    all_multp = reduce(lambda a, b: a*b, categories)\n",
    "    common_multiplier = all_multp // gcd_num\n",
    "\n",
    "    for cat, count in zip(categories.index, categories):\n",
    "        cat_df = df[df[category]==cat]\n",
    "        \n",
    "        for _ in range(common_multiplier//count):\n",
    "            if main_df is None:\n",
    "                main_df = cat_df.copy()\n",
    "            else:\n",
    "                main_df = main_df.append(cat_df.copy(), ignore_index=True)\n",
    "\n",
    "    return main_df"
   ]
  },
  {
   "cell_type": "code",
   "execution_count": 210,
   "metadata": {},
   "outputs": [],
   "source": [
    "df = prepare_dataset(True)"
   ]
  },
  {
   "cell_type": "code",
   "execution_count": 211,
   "metadata": {},
   "outputs": [],
   "source": [
    "def assertions(model, vectorizer):\n",
    "    sents = []\n",
    "    predictions = []\n",
    "    results = []\n",
    "    y_true = []\n",
    "    \n",
    "    def run(items):\n",
    "        for item in items:\n",
    "            sent, label = item\n",
    "            pred = predict(sent, model, vectorizer)[0]\n",
    "            \n",
    "            result = 'Correct' if pred == label else 'Incorrect'\n",
    "            sents.append(sent)\n",
    "            predictions.append(pred)\n",
    "            y_true.append(label)\n",
    "            results.append(result)\n",
    "            \n",
    "    items = [\n",
    "        ('add milk to my shopping list sophia', 'shopping'),\n",
    "        ('can you tell me sophia what time it is', 'time_now'),\n",
    "        \n",
    "    ]\n",
    "    \n",
    "    run(items)\n",
    "    \n",
    "    df = pd.DataFrame()\n",
    "    df['Sentences'] = sents\n",
    "    df['Predictions'] = predictions\n",
    "    df['Expect'] = y_true\n",
    "    df['Results'] = results\n",
    "    \n",
    "    return df"
   ]
  },
  {
   "cell_type": "code",
   "execution_count": 212,
   "metadata": {},
   "outputs": [],
   "source": [
    "def predict(sentences, model, vectorizer):\n",
    "    sentences = sentences if isinstance(sentences, list) else [sentences]\n",
    "    vector = vectorizer.transform(sentences)\n",
    "    return model.predict(vector)\n",
    "\n",
    "def save_models(\n",
    "    model, \n",
    "    vectorizer,    \n",
    "    model_name = 'model.pickle',\n",
    "    vector_name = 'vector.pickle'\n",
    "):\n",
    "    pickle.dump(model, open(model_name, 'wb'))\n",
    "    pickle.dump(vectorizer, open(vector_name, 'wb'))"
   ]
  },
  {
   "cell_type": "code",
   "execution_count": 221,
   "metadata": {},
   "outputs": [],
   "source": [
    "score_funcs = [\n",
    "    ('Accuracy', accuracy_score),\n",
    "#     ('Precision', lambda y, y_pred: precision_score(y, y_pred, average='weighted')),\n",
    "#     ('Recall', lambda y, y_pred: recall_score(y, y_pred, average=None)),\n",
    "    ('F1 Score', lambda y, y_pred: f1_score(y, y_pred, average='macro'))\n",
    "]\n",
    "\n",
    "model_scores = dict()\n",
    "\n",
    "def train_and_test(model, vectorizer, score_func_list=score_funcs, model_name=None):\n",
    "    fold = KFold(n_splits=4, random_state=10, shuffle=True)\n",
    "    \n",
    "    feature_col = 'sentence'\n",
    "    target_col = 'category'\n",
    "    \n",
    "    X = df[[feature_col]]\n",
    "    y = df[target_col]\n",
    "    \n",
    "    scores = dict()\n",
    "    for (name, func) in score_func_list:\n",
    "        scores[name] = [] \n",
    "    \n",
    "    for train_index, test_index in fold.split(X):\n",
    "        X_train, X_test = X.loc[ train_index], X.loc[test_index]\n",
    "        y_train, y_test = y[train_index], y[test_index]\n",
    "    \n",
    "        X_train_matrix = vectorizer.fit_transform(X_train[feature_col])\n",
    "        model.fit(X_train_matrix, y_train)\n",
    "        \n",
    "        X_test_matrix = vectorizer.transform(X_test[feature_col])\n",
    "        y_pred = model.predict(X_test_matrix)\n",
    "        # print(sum(y_pred), sum(y_test))\n",
    "\n",
    "        for (name, func) in score_func_list: \n",
    "            score = func(y_test, y_pred)\n",
    "            scores[name].append(score)\n",
    "\n",
    "    if model_name != None:\n",
    "        model_scores[model_name] = []\n",
    "        \n",
    "    for (name, func) in score_func_list:\n",
    "        avg_score = np.mean(scores[name])\n",
    "        print(name, ': ', avg_score)\n",
    "        \n",
    "        if model_name != None:\n",
    "            model_scores[model_name].append(avg_score)\n",
    "        \n",
    "    \n",
    "    return assertions(model, vectorizer)"
   ]
  },
  {
   "cell_type": "code",
   "execution_count": 222,
   "metadata": {
    "scrolled": true
   },
   "outputs": [],
   "source": [
    "df = prepare_dataset()"
   ]
  },
  {
   "cell_type": "code",
   "execution_count": 223,
   "metadata": {},
   "outputs": [
    {
     "name": "stdout",
     "output_type": "stream",
     "text": [
      "Accuracy :  1.0\n",
      "F1 Score :  1.0\n"
     ]
    },
    {
     "data": {
      "text/html": [
       "<div>\n",
       "<style scoped>\n",
       "    .dataframe tbody tr th:only-of-type {\n",
       "        vertical-align: middle;\n",
       "    }\n",
       "\n",
       "    .dataframe tbody tr th {\n",
       "        vertical-align: top;\n",
       "    }\n",
       "\n",
       "    .dataframe thead th {\n",
       "        text-align: right;\n",
       "    }\n",
       "</style>\n",
       "<table border=\"1\" class=\"dataframe\">\n",
       "  <thead>\n",
       "    <tr style=\"text-align: right;\">\n",
       "      <th></th>\n",
       "      <th>Sentences</th>\n",
       "      <th>Predictions</th>\n",
       "      <th>Expect</th>\n",
       "      <th>Results</th>\n",
       "    </tr>\n",
       "  </thead>\n",
       "  <tbody>\n",
       "    <tr>\n",
       "      <td>0</td>\n",
       "      <td>add milk to my shopping list sophia</td>\n",
       "      <td>shopping</td>\n",
       "      <td>shopping</td>\n",
       "      <td>Correct</td>\n",
       "    </tr>\n",
       "    <tr>\n",
       "      <td>1</td>\n",
       "      <td>can you tell me sophia what time it is</td>\n",
       "      <td>time_now</td>\n",
       "      <td>time_now</td>\n",
       "      <td>Correct</td>\n",
       "    </tr>\n",
       "  </tbody>\n",
       "</table>\n",
       "</div>"
      ],
      "text/plain": [
       "                                Sentences Predictions    Expect  Results\n",
       "0     add milk to my shopping list sophia    shopping  shopping  Correct\n",
       "1  can you tell me sophia what time it is    time_now  time_now  Correct"
      ]
     },
     "execution_count": 223,
     "metadata": {},
     "output_type": "execute_result"
    }
   ],
   "source": [
    "model1 = svm.SVC(gamma='auto')\n",
    "vectorizer = CountVectorizer()\n",
    "\n",
    "train_and_test(model1, vectorizer, model_name='SVC')"
   ]
  },
  {
   "cell_type": "code",
   "execution_count": 224,
   "metadata": {},
   "outputs": [
    {
     "name": "stdout",
     "output_type": "stream",
     "text": [
      "Accuracy :  0.6649305555555556\n",
      "F1 Score :  0.6203751141265965\n"
     ]
    },
    {
     "name": "stderr",
     "output_type": "stream",
     "text": [
      "/Users/msarica/anaconda3/lib/python3.7/site-packages/sklearn/metrics/classification.py:1437: UndefinedMetricWarning: F-score is ill-defined and being set to 0.0 in labels with no predicted samples.\n",
      "  'precision', 'predicted', average, warn_for)\n",
      "/Users/msarica/anaconda3/lib/python3.7/site-packages/sklearn/metrics/classification.py:1437: UndefinedMetricWarning: F-score is ill-defined and being set to 0.0 in labels with no predicted samples.\n",
      "  'precision', 'predicted', average, warn_for)\n",
      "/Users/msarica/anaconda3/lib/python3.7/site-packages/sklearn/metrics/classification.py:1437: UndefinedMetricWarning: F-score is ill-defined and being set to 0.0 in labels with no predicted samples.\n",
      "  'precision', 'predicted', average, warn_for)\n"
     ]
    },
    {
     "data": {
      "text/html": [
       "<div>\n",
       "<style scoped>\n",
       "    .dataframe tbody tr th:only-of-type {\n",
       "        vertical-align: middle;\n",
       "    }\n",
       "\n",
       "    .dataframe tbody tr th {\n",
       "        vertical-align: top;\n",
       "    }\n",
       "\n",
       "    .dataframe thead th {\n",
       "        text-align: right;\n",
       "    }\n",
       "</style>\n",
       "<table border=\"1\" class=\"dataframe\">\n",
       "  <thead>\n",
       "    <tr style=\"text-align: right;\">\n",
       "      <th></th>\n",
       "      <th>Sentences</th>\n",
       "      <th>Predictions</th>\n",
       "      <th>Expect</th>\n",
       "      <th>Results</th>\n",
       "    </tr>\n",
       "  </thead>\n",
       "  <tbody>\n",
       "    <tr>\n",
       "      <td>0</td>\n",
       "      <td>add milk to my shopping list sophia</td>\n",
       "      <td>shopping</td>\n",
       "      <td>shopping</td>\n",
       "      <td>Correct</td>\n",
       "    </tr>\n",
       "    <tr>\n",
       "      <td>1</td>\n",
       "      <td>can you tell me sophia what time it is</td>\n",
       "      <td>time_now</td>\n",
       "      <td>time_now</td>\n",
       "      <td>Correct</td>\n",
       "    </tr>\n",
       "  </tbody>\n",
       "</table>\n",
       "</div>"
      ],
      "text/plain": [
       "                                Sentences Predictions    Expect  Results\n",
       "0     add milk to my shopping list sophia    shopping  shopping  Correct\n",
       "1  can you tell me sophia what time it is    time_now  time_now  Correct"
      ]
     },
     "execution_count": 224,
     "metadata": {},
     "output_type": "execute_result"
    }
   ],
   "source": [
    "model2 = svm.SVC(gamma='auto')\n",
    "vectorizer = TfidfVectorizer(ngram_range=(1, 4))\n",
    "\n",
    "train_and_test(model2, vectorizer, model_name='SVC')"
   ]
  },
  {
   "cell_type": "code",
   "execution_count": 225,
   "metadata": {},
   "outputs": [
    {
     "name": "stdout",
     "output_type": "stream",
     "text": [
      "Accuracy :  1.0\n",
      "F1 Score :  1.0\n"
     ]
    },
    {
     "data": {
      "text/html": [
       "<div>\n",
       "<style scoped>\n",
       "    .dataframe tbody tr th:only-of-type {\n",
       "        vertical-align: middle;\n",
       "    }\n",
       "\n",
       "    .dataframe tbody tr th {\n",
       "        vertical-align: top;\n",
       "    }\n",
       "\n",
       "    .dataframe thead th {\n",
       "        text-align: right;\n",
       "    }\n",
       "</style>\n",
       "<table border=\"1\" class=\"dataframe\">\n",
       "  <thead>\n",
       "    <tr style=\"text-align: right;\">\n",
       "      <th></th>\n",
       "      <th>Sentences</th>\n",
       "      <th>Predictions</th>\n",
       "      <th>Expect</th>\n",
       "      <th>Results</th>\n",
       "    </tr>\n",
       "  </thead>\n",
       "  <tbody>\n",
       "    <tr>\n",
       "      <td>0</td>\n",
       "      <td>add milk to my shopping list sophia</td>\n",
       "      <td>shopping</td>\n",
       "      <td>shopping</td>\n",
       "      <td>Correct</td>\n",
       "    </tr>\n",
       "    <tr>\n",
       "      <td>1</td>\n",
       "      <td>can you tell me sophia what time it is</td>\n",
       "      <td>time_now</td>\n",
       "      <td>time_now</td>\n",
       "      <td>Correct</td>\n",
       "    </tr>\n",
       "  </tbody>\n",
       "</table>\n",
       "</div>"
      ],
      "text/plain": [
       "                                Sentences Predictions    Expect  Results\n",
       "0     add milk to my shopping list sophia    shopping  shopping  Correct\n",
       "1  can you tell me sophia what time it is    time_now  time_now  Correct"
      ]
     },
     "execution_count": 225,
     "metadata": {},
     "output_type": "execute_result"
    }
   ],
   "source": [
    "from sklearn.naive_bayes import MultinomialNB\n",
    "\n",
    "nb = MultinomialNB()\n",
    "vectorizer = CountVectorizer()\n",
    "\n",
    "train_and_test(nb, vectorizer, model_name='MultinomialNB')"
   ]
  },
  {
   "cell_type": "code",
   "execution_count": 226,
   "metadata": {},
   "outputs": [
    {
     "name": "stdout",
     "output_type": "stream",
     "text": [
      "Accuracy :  1.0\n",
      "F1 Score :  1.0\n"
     ]
    },
    {
     "data": {
      "text/html": [
       "<div>\n",
       "<style scoped>\n",
       "    .dataframe tbody tr th:only-of-type {\n",
       "        vertical-align: middle;\n",
       "    }\n",
       "\n",
       "    .dataframe tbody tr th {\n",
       "        vertical-align: top;\n",
       "    }\n",
       "\n",
       "    .dataframe thead th {\n",
       "        text-align: right;\n",
       "    }\n",
       "</style>\n",
       "<table border=\"1\" class=\"dataframe\">\n",
       "  <thead>\n",
       "    <tr style=\"text-align: right;\">\n",
       "      <th></th>\n",
       "      <th>Sentences</th>\n",
       "      <th>Predictions</th>\n",
       "      <th>Expect</th>\n",
       "      <th>Results</th>\n",
       "    </tr>\n",
       "  </thead>\n",
       "  <tbody>\n",
       "    <tr>\n",
       "      <td>0</td>\n",
       "      <td>add milk to my shopping list sophia</td>\n",
       "      <td>shopping</td>\n",
       "      <td>shopping</td>\n",
       "      <td>Correct</td>\n",
       "    </tr>\n",
       "    <tr>\n",
       "      <td>1</td>\n",
       "      <td>can you tell me sophia what time it is</td>\n",
       "      <td>time_now</td>\n",
       "      <td>time_now</td>\n",
       "      <td>Correct</td>\n",
       "    </tr>\n",
       "  </tbody>\n",
       "</table>\n",
       "</div>"
      ],
      "text/plain": [
       "                                Sentences Predictions    Expect  Results\n",
       "0     add milk to my shopping list sophia    shopping  shopping  Correct\n",
       "1  can you tell me sophia what time it is    time_now  time_now  Correct"
      ]
     },
     "execution_count": 226,
     "metadata": {},
     "output_type": "execute_result"
    }
   ],
   "source": [
    "from sklearn.linear_model import SGDClassifier\n",
    "\n",
    "sgd_model1 = SGDClassifier()\n",
    "vectorizer = CountVectorizer()\n",
    "\n",
    "train_and_test(sgd_model1, vectorizer, model_name='SGDClassifier')"
   ]
  },
  {
   "cell_type": "code",
   "execution_count": 227,
   "metadata": {},
   "outputs": [
    {
     "name": "stdout",
     "output_type": "stream",
     "text": [
      "Accuracy :  1.0\n",
      "F1 Score :  1.0\n"
     ]
    },
    {
     "name": "stderr",
     "output_type": "stream",
     "text": [
      "/Users/msarica/anaconda3/lib/python3.7/site-packages/sklearn/linear_model/logistic.py:469: FutureWarning: Default multi_class will be changed to 'auto' in 0.22. Specify the multi_class option to silence this warning.\n",
      "  \"this warning.\", FutureWarning)\n",
      "/Users/msarica/anaconda3/lib/python3.7/site-packages/sklearn/linear_model/logistic.py:469: FutureWarning: Default multi_class will be changed to 'auto' in 0.22. Specify the multi_class option to silence this warning.\n",
      "  \"this warning.\", FutureWarning)\n",
      "/Users/msarica/anaconda3/lib/python3.7/site-packages/sklearn/linear_model/logistic.py:469: FutureWarning: Default multi_class will be changed to 'auto' in 0.22. Specify the multi_class option to silence this warning.\n",
      "  \"this warning.\", FutureWarning)\n",
      "/Users/msarica/anaconda3/lib/python3.7/site-packages/sklearn/linear_model/logistic.py:469: FutureWarning: Default multi_class will be changed to 'auto' in 0.22. Specify the multi_class option to silence this warning.\n",
      "  \"this warning.\", FutureWarning)\n"
     ]
    },
    {
     "data": {
      "text/html": [
       "<div>\n",
       "<style scoped>\n",
       "    .dataframe tbody tr th:only-of-type {\n",
       "        vertical-align: middle;\n",
       "    }\n",
       "\n",
       "    .dataframe tbody tr th {\n",
       "        vertical-align: top;\n",
       "    }\n",
       "\n",
       "    .dataframe thead th {\n",
       "        text-align: right;\n",
       "    }\n",
       "</style>\n",
       "<table border=\"1\" class=\"dataframe\">\n",
       "  <thead>\n",
       "    <tr style=\"text-align: right;\">\n",
       "      <th></th>\n",
       "      <th>Sentences</th>\n",
       "      <th>Predictions</th>\n",
       "      <th>Expect</th>\n",
       "      <th>Results</th>\n",
       "    </tr>\n",
       "  </thead>\n",
       "  <tbody>\n",
       "    <tr>\n",
       "      <td>0</td>\n",
       "      <td>add milk to my shopping list sophia</td>\n",
       "      <td>shopping</td>\n",
       "      <td>shopping</td>\n",
       "      <td>Correct</td>\n",
       "    </tr>\n",
       "    <tr>\n",
       "      <td>1</td>\n",
       "      <td>can you tell me sophia what time it is</td>\n",
       "      <td>time_now</td>\n",
       "      <td>time_now</td>\n",
       "      <td>Correct</td>\n",
       "    </tr>\n",
       "  </tbody>\n",
       "</table>\n",
       "</div>"
      ],
      "text/plain": [
       "                                Sentences Predictions    Expect  Results\n",
       "0     add milk to my shopping list sophia    shopping  shopping  Correct\n",
       "1  can you tell me sophia what time it is    time_now  time_now  Correct"
      ]
     },
     "execution_count": 227,
     "metadata": {},
     "output_type": "execute_result"
    }
   ],
   "source": [
    "from sklearn.linear_model import LogisticRegression\n",
    "\n",
    "regr = LogisticRegression(solver='lbfgs')\n",
    "vectorizer = CountVectorizer()\n",
    "\n",
    "train_and_test(regr, vectorizer, model_name='LogisticRegression')\n"
   ]
  },
  {
   "cell_type": "code",
   "execution_count": 228,
   "metadata": {},
   "outputs": [
    {
     "data": {
      "text/html": [
       "<div>\n",
       "<style scoped>\n",
       "    .dataframe tbody tr th:only-of-type {\n",
       "        vertical-align: middle;\n",
       "    }\n",
       "\n",
       "    .dataframe tbody tr th {\n",
       "        vertical-align: top;\n",
       "    }\n",
       "\n",
       "    .dataframe thead th {\n",
       "        text-align: right;\n",
       "    }\n",
       "</style>\n",
       "<table border=\"1\" class=\"dataframe\">\n",
       "  <thead>\n",
       "    <tr style=\"text-align: right;\">\n",
       "      <th></th>\n",
       "      <th>Accuracy</th>\n",
       "      <th>F1 Score</th>\n",
       "    </tr>\n",
       "  </thead>\n",
       "  <tbody>\n",
       "    <tr>\n",
       "      <td>MultinomialNB</td>\n",
       "      <td>1.000000</td>\n",
       "      <td>1.000000</td>\n",
       "    </tr>\n",
       "    <tr>\n",
       "      <td>SGDClassifier</td>\n",
       "      <td>1.000000</td>\n",
       "      <td>1.000000</td>\n",
       "    </tr>\n",
       "    <tr>\n",
       "      <td>LogisticRegression</td>\n",
       "      <td>1.000000</td>\n",
       "      <td>1.000000</td>\n",
       "    </tr>\n",
       "    <tr>\n",
       "      <td>SVC</td>\n",
       "      <td>0.664931</td>\n",
       "      <td>0.620375</td>\n",
       "    </tr>\n",
       "  </tbody>\n",
       "</table>\n",
       "</div>"
      ],
      "text/plain": [
       "                    Accuracy  F1 Score\n",
       "MultinomialNB       1.000000  1.000000\n",
       "SGDClassifier       1.000000  1.000000\n",
       "LogisticRegression  1.000000  1.000000\n",
       "SVC                 0.664931  0.620375"
      ]
     },
     "execution_count": 228,
     "metadata": {},
     "output_type": "execute_result"
    }
   ],
   "source": [
    "def show_model_results():\n",
    "    score_df = pd.DataFrame(model_scores)\n",
    "    score_df.index = [name for name, _ in score_funcs]\n",
    "    score_df = score_df.T\n",
    "    score_df.sort_values(by='Accuracy', inplace=True, ascending=False)\n",
    "    return score_df\n",
    "\n",
    "show_model_results()\n",
    "# model_scores"
   ]
  },
  {
   "cell_type": "code",
   "execution_count": null,
   "metadata": {},
   "outputs": [],
   "source": []
  }
 ],
 "metadata": {
  "kernelspec": {
   "display_name": "Python 3",
   "language": "python",
   "name": "python3"
  },
  "language_info": {
   "codemirror_mode": {
    "name": "ipython",
    "version": 3
   },
   "file_extension": ".py",
   "mimetype": "text/x-python",
   "name": "python",
   "nbconvert_exporter": "python",
   "pygments_lexer": "ipython3",
   "version": "3.7.4"
  }
 },
 "nbformat": 4,
 "nbformat_minor": 2
}
