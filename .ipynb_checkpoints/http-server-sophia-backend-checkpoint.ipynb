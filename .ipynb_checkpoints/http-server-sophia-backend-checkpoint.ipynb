{
 "cells": [
  {
   "cell_type": "code",
   "execution_count": 1,
   "metadata": {},
   "outputs": [],
   "source": [
    "import pickle\n",
    "model_name = 'model.pickle'\n",
    "vector_name = 'vector.pickle'\n",
    "\n",
    "def load_model():\n",
    "    model = pickle.load(open(model_name, 'rb'))\n",
    "    vectorizer = pickle.load(open(vector_name, 'rb'))\n",
    "    return model, vectorizer\n",
    "\n",
    "def predict(sentences):\n",
    "    sentences = sentences if isinstance(sentences, list) else [sentences]\n",
    "    sentences = [x.strip().lower() for x in sentences]\n",
    "    vector = vectorizer.transform(sentences)\n",
    "    positive_probability = model.predict_proba(vector)[0][1]\n",
    "#     print (positive_probability)\n",
    "    prediction = True if positive_probability > 0.5 else False\n",
    "    return  prediction, positive_probability"
   ]
  },
  {
   "cell_type": "code",
   "execution_count": 2,
   "metadata": {},
   "outputs": [],
   "source": [
    "model, vectorizer = load_model()\n"
   ]
  },
  {
   "cell_type": "code",
   "execution_count": 3,
   "metadata": {},
   "outputs": [
    {
     "data": {
      "text/plain": [
       "(False, 0.4206842805256539)"
      ]
     },
     "execution_count": 3,
     "metadata": {},
     "output_type": "execute_result"
    }
   ],
   "source": [
    "predict('do you know if sophia can answer this?')"
   ]
  },
  {
   "cell_type": "code",
   "execution_count": 4,
   "metadata": {},
   "outputs": [
    {
     "name": "stdout",
     "output_type": "stream",
     "text": [
      " * Serving Flask app \"__main__\" (lazy loading)\n",
      " * Environment: production\n",
      "   WARNING: This is a development server. Do not use it in a production deployment.\n",
      "   Use a production WSGI server instead.\n",
      " * Debug mode: off\n"
     ]
    },
    {
     "name": "stderr",
     "output_type": "stream",
     "text": [
      " * Running on http://127.0.0.1:5000/ (Press CTRL+C to quit)\n",
      "127.0.0.1 - - [12/Jul/2020 01:11:44] \"\u001b[37mGET /?sentence=hello%20how%20are%20you HTTP/1.1\u001b[0m\" 200 -\n"
     ]
    },
    {
     "name": "stdout",
     "output_type": "stream",
     "text": [
      "hello how are you\n",
      "False 0.05841731120870018\n"
     ]
    },
    {
     "name": "stderr",
     "output_type": "stream",
     "text": [
      "127.0.0.1 - - [12/Jul/2020 01:11:55] \"\u001b[37mGET /?sentence=hi%20sofia HTTP/1.1\u001b[0m\" 200 -\n"
     ]
    },
    {
     "name": "stdout",
     "output_type": "stream",
     "text": [
      "hi sofia\n",
      "False 0.1620774328496972\n"
     ]
    },
    {
     "name": "stderr",
     "output_type": "stream",
     "text": [
      "127.0.0.1 - - [12/Jul/2020 01:12:04] \"\u001b[37mGET /?sentence=sophia HTTP/1.1\u001b[0m\" 200 -\n"
     ]
    },
    {
     "name": "stdout",
     "output_type": "stream",
     "text": [
      "sophia\n",
      "True 0.8324303118106652\n"
     ]
    },
    {
     "name": "stderr",
     "output_type": "stream",
     "text": [
      "127.0.0.1 - - [12/Jul/2020 01:12:32] \"\u001b[37mGET /?sentence=sending%20kids%20to%20do%20it%20couldn%27t%20be%20by%20the%20month%20in%20the%20xfinity%20series%20leaders%20size%20usually%20take%20the%20check%20is%20assigned%20available HTTP/1.1\u001b[0m\" 200 -\n"
     ]
    },
    {
     "name": "stdout",
     "output_type": "stream",
     "text": [
      "sending kids to do it couldn't be by the month in the xfinity series leaders size usually take the check is assigned available\n",
      "False 0.36084194520940716\n"
     ]
    },
    {
     "name": "stderr",
     "output_type": "stream",
     "text": [
      "127.0.0.1 - - [12/Jul/2020 01:12:48] \"\u001b[37mGET /?sentence=shino%20brown%20mitsubishi%20would%20be HTTP/1.1\u001b[0m\" 200 -\n"
     ]
    },
    {
     "name": "stdout",
     "output_type": "stream",
     "text": [
      "shino brown mitsubishi would be\n",
      "False 0.030299512379392123\n"
     ]
    },
    {
     "name": "stderr",
     "output_type": "stream",
     "text": [
      "127.0.0.1 - - [12/Jul/2020 01:12:59] \"\u001b[37mGET /?sentence=jessica%20london HTTP/1.1\u001b[0m\" 200 -\n"
     ]
    },
    {
     "name": "stdout",
     "output_type": "stream",
     "text": [
      "jessica london\n",
      "False 0.03299125600082825\n"
     ]
    },
    {
     "name": "stderr",
     "output_type": "stream",
     "text": [
      "127.0.0.1 - - [12/Jul/2020 01:13:08] \"\u001b[37mGET /?sentence=she%20hasn%27t%20pooped%20in%20rio HTTP/1.1\u001b[0m\" 200 -\n"
     ]
    },
    {
     "name": "stdout",
     "output_type": "stream",
     "text": [
      "she hasn't pooped in rio\n",
      "False 0.02717449324023749\n"
     ]
    },
    {
     "name": "stderr",
     "output_type": "stream",
     "text": [
      "127.0.0.1 - - [12/Jul/2020 01:13:28] \"\u001b[37mGET /?sentence=wise%20vision%20windows HTTP/1.1\u001b[0m\" 200 -\n"
     ]
    },
    {
     "name": "stdout",
     "output_type": "stream",
     "text": [
      "wise vision windows\n",
      "False 0.03299125600082825\n"
     ]
    },
    {
     "name": "stderr",
     "output_type": "stream",
     "text": [
      "127.0.0.1 - - [12/Jul/2020 01:13:36] \"\u001b[37mGET /?sentence=tongue%20feels%20real HTTP/1.1\u001b[0m\" 200 -\n"
     ]
    },
    {
     "name": "stdout",
     "output_type": "stream",
     "text": [
      "tongue feels real\n",
      "False 0.031882073415016504\n"
     ]
    },
    {
     "name": "stderr",
     "output_type": "stream",
     "text": [
      "127.0.0.1 - - [12/Jul/2020 01:13:52] \"\u001b[37mGET /?sentence=what%20is%20the%20rule%20of%20thumb%20for%20a%20while HTTP/1.1\u001b[0m\" 200 -\n"
     ]
    },
    {
     "name": "stdout",
     "output_type": "stream",
     "text": [
      "what is the rule of thumb for a while\n",
      "False 0.106480680623213\n"
     ]
    },
    {
     "name": "stderr",
     "output_type": "stream",
     "text": [
      "127.0.0.1 - - [12/Jul/2020 01:14:00] \"\u001b[37mGET /?sentence=octaslash%20element%20price HTTP/1.1\u001b[0m\" 200 -\n"
     ]
    },
    {
     "name": "stdout",
     "output_type": "stream",
     "text": [
      "octaslash element price\n",
      "False 0.03299125600082825\n"
     ]
    },
    {
     "name": "stderr",
     "output_type": "stream",
     "text": [
      "127.0.0.1 - - [12/Jul/2020 01:14:11] \"\u001b[37mGET /?sentence=has%20been%20detected%20gif HTTP/1.1\u001b[0m\" 200 -\n"
     ]
    },
    {
     "name": "stdout",
     "output_type": "stream",
     "text": [
      "has been detected gif\n",
      "False 0.03232869773092467\n"
     ]
    },
    {
     "name": "stderr",
     "output_type": "stream",
     "text": [
      "127.0.0.1 - - [12/Jul/2020 01:14:26] \"\u001b[37mGET /?sentence=nautilus%20watch HTTP/1.1\u001b[0m\" 200 -\n"
     ]
    },
    {
     "name": "stdout",
     "output_type": "stream",
     "text": [
      "nautilus watch\n",
      "False 0.03299125600082825\n"
     ]
    },
    {
     "name": "stderr",
     "output_type": "stream",
     "text": [
      "127.0.0.1 - - [12/Jul/2020 01:15:27] \"\u001b[37mGET /?sentence=hi%20sofia HTTP/1.1\u001b[0m\" 200 -\n"
     ]
    },
    {
     "name": "stdout",
     "output_type": "stream",
     "text": [
      "hi sofia\n",
      "False 0.1620774328496972\n"
     ]
    },
    {
     "name": "stderr",
     "output_type": "stream",
     "text": [
      "127.0.0.1 - - [12/Jul/2020 01:15:32] \"\u001b[37mGET /?sentence=what%27s%20up HTTP/1.1\u001b[0m\" 200 -\n"
     ]
    },
    {
     "name": "stdout",
     "output_type": "stream",
     "text": [
      "what's up\n",
      "False 0.040693729386517885\n"
     ]
    },
    {
     "name": "stderr",
     "output_type": "stream",
     "text": [
      "127.0.0.1 - - [12/Jul/2020 01:15:42] \"\u001b[37mGET /?sentence=can%20you%20tell%20me%20what%20time%20is%20it%20supposed%20to HTTP/1.1\u001b[0m\" 200 -\n"
     ]
    },
    {
     "name": "stdout",
     "output_type": "stream",
     "text": [
      "can you tell me what time is it supposed to\n",
      "True 0.526732109641978\n"
     ]
    },
    {
     "name": "stderr",
     "output_type": "stream",
     "text": [
      "127.0.0.1 - - [12/Jul/2020 01:15:54] \"\u001b[37mGET /?sentence=even%20though HTTP/1.1\u001b[0m\" 200 -\n"
     ]
    },
    {
     "name": "stdout",
     "output_type": "stream",
     "text": [
      "even though\n",
      "False 0.03299125600082825\n"
     ]
    },
    {
     "name": "stderr",
     "output_type": "stream",
     "text": [
      "127.0.0.1 - - [12/Jul/2020 01:16:28] \"\u001b[37mGET /?sentence=exponential HTTP/1.1\u001b[0m\" 200 -\n"
     ]
    },
    {
     "name": "stdout",
     "output_type": "stream",
     "text": [
      "exponential\n",
      "False 0.03299125600082825\n"
     ]
    }
   ],
   "source": [
    "from flask import Flask\n",
    "from flask import jsonify, request\n",
    "from flask_cors import CORS\n",
    "\n",
    "app = Flask(__name__)\n",
    "CORS(app)\n",
    "\n",
    "@app.route('/')\n",
    "def hello_world():\n",
    "    sentence = request.args.get('sentence')\n",
    "    \n",
    "    print(sentence)\n",
    "    prediction, probability = predict(sentence)\n",
    "    print(prediction, probability)\n",
    "    return jsonify({\n",
    "        'prediction': prediction,\n",
    "        'probability': probability\n",
    "    })\n",
    "\n",
    "if __name__ == '__main__':\n",
    "    app.run()"
   ]
  },
  {
   "cell_type": "code",
   "execution_count": null,
   "metadata": {},
   "outputs": [],
   "source": []
  }
 ],
 "metadata": {
  "kernelspec": {
   "display_name": "Python 3",
   "language": "python",
   "name": "python3"
  },
  "language_info": {
   "codemirror_mode": {
    "name": "ipython",
    "version": 3
   },
   "file_extension": ".py",
   "mimetype": "text/x-python",
   "name": "python",
   "nbconvert_exporter": "python",
   "pygments_lexer": "ipython3",
   "version": "3.7.4"
  }
 },
 "nbformat": 4,
 "nbformat_minor": 2
}
