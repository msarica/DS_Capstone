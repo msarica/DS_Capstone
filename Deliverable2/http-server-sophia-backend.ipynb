{
 "cells": [
  {
   "cell_type": "code",
   "execution_count": 1,
   "metadata": {},
   "outputs": [],
   "source": [
    "import pickle\n",
    "model_name = 'model.pickle'\n",
    "vector_name = 'vector.pickle'\n",
    "\n",
    "def load_model():\n",
    "    model = pickle.load(open(model_name, 'rb'))\n",
    "    vectorizer = pickle.load(open(vector_name, 'rb'))\n",
    "    return model, vectorizer\n",
    "\n",
    "def predict(sentences):\n",
    "    sentences = sentences if isinstance(sentences, list) else [sentences]\n",
    "    sentences = [x.strip().lower() for x in sentences]\n",
    "    vector = vectorizer.transform(sentences)\n",
    "    positive_probability = model.predict_proba(vector)[0][1]\n",
    "#     print (positive_probability)\n",
    "    prediction = True if positive_probability > 0.5 else False\n",
    "    return  prediction, positive_probability"
   ]
  },
  {
   "cell_type": "code",
   "execution_count": 2,
   "metadata": {},
   "outputs": [],
   "source": [
    "model, vectorizer = load_model()\n"
   ]
  },
  {
   "cell_type": "code",
   "execution_count": 3,
   "metadata": {},
   "outputs": [
    {
     "data": {
      "text/plain": [
       "(False, 0.36262858872418124)"
      ]
     },
     "execution_count": 3,
     "metadata": {},
     "output_type": "execute_result"
    }
   ],
   "source": [
    "predict('do you know if sophia can answer this?')"
   ]
  },
  {
   "cell_type": "code",
   "execution_count": null,
   "metadata": {},
   "outputs": [
    {
     "name": "stdout",
     "output_type": "stream",
     "text": [
      " * Serving Flask app \"__main__\" (lazy loading)\n",
      " * Environment: production\n",
      "   WARNING: This is a development server. Do not use it in a production deployment.\n",
      "   Use a production WSGI server instead.\n",
      " * Debug mode: off\n"
     ]
    },
    {
     "name": "stderr",
     "output_type": "stream",
     "text": [
      " * Running on http://127.0.0.1:5000/ (Press CTRL+C to quit)\n",
      "127.0.0.1 - - [14/Jul/2020 22:51:55] \"\u001b[37mOPTIONS /?sentence=what%20time%20does%20Sophia HTTP/1.1\u001b[0m\" 200 -\n",
      "127.0.0.1 - - [14/Jul/2020 22:51:55] \"\u001b[37mGET /?sentence=what%20time%20does%20Sophia HTTP/1.1\u001b[0m\" 200 -\n"
     ]
    },
    {
     "name": "stdout",
     "output_type": "stream",
     "text": [
      "what time does Sophia\n",
      "True 0.961314749928914\n"
     ]
    },
    {
     "name": "stderr",
     "output_type": "stream",
     "text": [
      "127.0.0.1 - - [14/Jul/2020 22:52:25] \"\u001b[37mOPTIONS /?sentence=do%20you%20think%20it%27s%20Sofia%20can%20answer%20this%20question HTTP/1.1\u001b[0m\" 200 -\n",
      "127.0.0.1 - - [14/Jul/2020 22:52:25] \"\u001b[37mGET /?sentence=do%20you%20think%20it%27s%20Sofia%20can%20answer%20this%20question HTTP/1.1\u001b[0m\" 200 -\n"
     ]
    },
    {
     "name": "stdout",
     "output_type": "stream",
     "text": [
      "do you think it's Sofia can answer this question\n",
      "False 0.21896781726010964\n"
     ]
    },
    {
     "name": "stderr",
     "output_type": "stream",
     "text": [
      "127.0.0.1 - - [14/Jul/2020 22:52:52] \"\u001b[37mOPTIONS /?sentence=do%20you%20think%20if%20shorty%20can%20answer%20this HTTP/1.1\u001b[0m\" 200 -\n",
      "127.0.0.1 - - [14/Jul/2020 22:52:52] \"\u001b[37mGET /?sentence=do%20you%20think%20if%20shorty%20can%20answer%20this HTTP/1.1\u001b[0m\" 200 -\n"
     ]
    },
    {
     "name": "stdout",
     "output_type": "stream",
     "text": [
      "do you think if shorty can answer this\n",
      "False 0.008171674095381623\n"
     ]
    },
    {
     "name": "stderr",
     "output_type": "stream",
     "text": [
      "127.0.0.1 - - [14/Jul/2020 22:53:08] \"\u001b[37mOPTIONS /?sentence=I%27m%20still%20training%20Sophia%27s%20model HTTP/1.1\u001b[0m\" 200 -\n",
      "127.0.0.1 - - [14/Jul/2020 22:53:08] \"\u001b[37mGET /?sentence=I%27m%20still%20training%20Sophia%27s%20model HTTP/1.1\u001b[0m\" 200 -\n"
     ]
    },
    {
     "name": "stdout",
     "output_type": "stream",
     "text": [
      "I'm still training Sophia's model\n",
      "True 0.771491026368247\n"
     ]
    },
    {
     "name": "stderr",
     "output_type": "stream",
     "text": [
      "127.0.0.1 - - [14/Jul/2020 22:53:58] \"\u001b[37mOPTIONS /?sentence=hey%20Sophia%20please%20add%20milk%20to%20my%20shopping%20list HTTP/1.1\u001b[0m\" 200 -\n",
      "127.0.0.1 - - [14/Jul/2020 22:53:58] \"\u001b[37mGET /?sentence=hey%20Sophia%20please%20add%20milk%20to%20my%20shopping%20list HTTP/1.1\u001b[0m\" 200 -\n"
     ]
    },
    {
     "name": "stdout",
     "output_type": "stream",
     "text": [
      "hey Sophia please add milk to my shopping list\n",
      "True 0.9794971259452909\n"
     ]
    },
    {
     "name": "stderr",
     "output_type": "stream",
     "text": [
      "127.0.0.1 - - [14/Jul/2020 22:54:27] \"\u001b[37mOPTIONS /?sentence=have%20you%20asked%20Sophia%20yet HTTP/1.1\u001b[0m\" 200 -\n",
      "127.0.0.1 - - [14/Jul/2020 22:54:27] \"\u001b[37mGET /?sentence=have%20you%20asked%20Sophia%20yet HTTP/1.1\u001b[0m\" 200 -\n"
     ]
    },
    {
     "name": "stdout",
     "output_type": "stream",
     "text": [
      "have you asked Sophia yet\n",
      "True 0.8612914363534714\n"
     ]
    },
    {
     "name": "stderr",
     "output_type": "stream",
     "text": [
      "127.0.0.1 - - [14/Jul/2020 22:55:02] \"\u001b[37mOPTIONS /?sentence=Tim%20Sophia%20answer%20to%20this%20question HTTP/1.1\u001b[0m\" 200 -\n",
      "127.0.0.1 - - [14/Jul/2020 22:55:02] \"\u001b[37mGET /?sentence=Tim%20Sophia%20answer%20to%20this%20question HTTP/1.1\u001b[0m\" 200 -\n"
     ]
    },
    {
     "name": "stdout",
     "output_type": "stream",
     "text": [
      "Tim Sophia answer to this question\n",
      "False 0.43836710050180716\n"
     ]
    },
    {
     "name": "stderr",
     "output_type": "stream",
     "text": [
      "127.0.0.1 - - [14/Jul/2020 22:55:08] \"\u001b[37mOPTIONS /?sentence=can%20Sophia%20answer%20to%20this%20question HTTP/1.1\u001b[0m\" 200 -\n",
      "127.0.0.1 - - [14/Jul/2020 22:55:08] \"\u001b[37mGET /?sentence=can%20Sophia%20answer%20to%20this%20question HTTP/1.1\u001b[0m\" 200 -\n"
     ]
    },
    {
     "name": "stdout",
     "output_type": "stream",
     "text": [
      "can Sophia answer to this question\n",
      "True 0.5586988536628364\n"
     ]
    },
    {
     "name": "stderr",
     "output_type": "stream",
     "text": [
      "127.0.0.1 - - [14/Jul/2020 22:55:36] \"\u001b[37mOPTIONS /?sentence=Sophie%20is%20keep HTTP/1.1\u001b[0m\" 200 -\n",
      "127.0.0.1 - - [14/Jul/2020 22:55:36] \"\u001b[37mGET /?sentence=Sophie%20is%20keep HTTP/1.1\u001b[0m\" 200 -\n"
     ]
    },
    {
     "name": "stdout",
     "output_type": "stream",
     "text": [
      "Sophie is keep\n",
      "False 0.33246864406634313\n"
     ]
    },
    {
     "name": "stderr",
     "output_type": "stream",
     "text": [
      "127.0.0.1 - - [14/Jul/2020 22:56:04] \"\u001b[37mOPTIONS /?sentence=that%20would%20be%20nice%20if%20Sophia%20could%20play%20with%20my%20son HTTP/1.1\u001b[0m\" 200 -\n",
      "127.0.0.1 - - [14/Jul/2020 22:56:04] \"\u001b[37mGET /?sentence=that%20would%20be%20nice%20if%20Sophia%20could%20play%20with%20my%20son HTTP/1.1\u001b[0m\" 200 -\n"
     ]
    },
    {
     "name": "stdout",
     "output_type": "stream",
     "text": [
      "that would be nice if Sophia could play with my son\n",
      "True 0.7269342989131312\n"
     ]
    },
    {
     "name": "stderr",
     "output_type": "stream",
     "text": [
      "127.0.0.1 - - [14/Jul/2020 22:56:26] \"\u001b[37mOPTIONS /?sentence=Amarillo HTTP/1.1\u001b[0m\" 200 -\n",
      "127.0.0.1 - - [14/Jul/2020 22:56:26] \"\u001b[37mGET /?sentence=Amarillo HTTP/1.1\u001b[0m\" 200 -\n"
     ]
    },
    {
     "name": "stdout",
     "output_type": "stream",
     "text": [
      "Amarillo\n",
      "False 0.032210501827593545\n"
     ]
    },
    {
     "name": "stderr",
     "output_type": "stream",
     "text": [
      "127.0.0.1 - - [14/Jul/2020 22:56:34] \"\u001b[37mOPTIONS /?sentence=hope%20you%20feel%20the%20same%20give%20us%20this%20year HTTP/1.1\u001b[0m\" 200 -\n",
      "127.0.0.1 - - [14/Jul/2020 22:56:34] \"\u001b[37mGET /?sentence=hope%20you%20feel%20the%20same%20give%20us%20this%20year HTTP/1.1\u001b[0m\" 200 -\n"
     ]
    },
    {
     "name": "stdout",
     "output_type": "stream",
     "text": [
      "hope you feel the same give us this year\n",
      "False 0.02041797753806405\n"
     ]
    },
    {
     "name": "stderr",
     "output_type": "stream",
     "text": [
      "127.0.0.1 - - [14/Jul/2020 22:56:48] \"\u001b[37mOPTIONS /?sentence=chupacabra HTTP/1.1\u001b[0m\" 200 -\n",
      "127.0.0.1 - - [14/Jul/2020 22:56:48] \"\u001b[37mGET /?sentence=chupacabra HTTP/1.1\u001b[0m\" 200 -\n"
     ]
    },
    {
     "name": "stdout",
     "output_type": "stream",
     "text": [
      "chupacabra\n",
      "False 0.032210501827593545\n"
     ]
    },
    {
     "name": "stderr",
     "output_type": "stream",
     "text": [
      "127.0.0.1 - - [14/Jul/2020 22:56:51] \"\u001b[37mOPTIONS /?sentence=I%27m%20sorry%20Spanish HTTP/1.1\u001b[0m\" 200 -\n",
      "127.0.0.1 - - [14/Jul/2020 22:56:51] \"\u001b[37mGET /?sentence=I%27m%20sorry%20Spanish HTTP/1.1\u001b[0m\" 200 -\n"
     ]
    },
    {
     "name": "stdout",
     "output_type": "stream",
     "text": [
      "I'm sorry Spanish\n",
      "False 0.03143549227296582\n"
     ]
    },
    {
     "name": "stderr",
     "output_type": "stream",
     "text": [
      "127.0.0.1 - - [14/Jul/2020 22:56:58] \"\u001b[37mOPTIONS /?sentence=take%20the%20burn%20out%20no%20more HTTP/1.1\u001b[0m\" 200 -\n",
      "127.0.0.1 - - [14/Jul/2020 22:56:58] \"\u001b[37mGET /?sentence=take%20the%20burn%20out%20no%20more HTTP/1.1\u001b[0m\" 200 -\n"
     ]
    },
    {
     "name": "stdout",
     "output_type": "stream",
     "text": [
      "take the burn out no more\n",
      "False 0.10104543672888265\n"
     ]
    },
    {
     "name": "stderr",
     "output_type": "stream",
     "text": [
      "127.0.0.1 - - [14/Jul/2020 22:57:08] \"\u001b[37mOPTIONS /?sentence=you%20sold%20our%20Stefania%20Craigslist HTTP/1.1\u001b[0m\" 200 -\n",
      "127.0.0.1 - - [14/Jul/2020 22:57:08] \"\u001b[37mGET /?sentence=you%20sold%20our%20Stefania%20Craigslist HTTP/1.1\u001b[0m\" 200 -\n"
     ]
    },
    {
     "name": "stdout",
     "output_type": "stream",
     "text": [
      "you sold our Stefania Craigslist\n",
      "False 0.033067816080641015\n"
     ]
    },
    {
     "name": "stderr",
     "output_type": "stream",
     "text": [
      "127.0.0.1 - - [14/Jul/2020 22:57:12] \"\u001b[37mOPTIONS /?sentence=invalid%20my%20tip%20family%20wish%20me%20up%20there HTTP/1.1\u001b[0m\" 200 -\n",
      "127.0.0.1 - - [14/Jul/2020 22:57:12] \"\u001b[37mGET /?sentence=invalid%20my%20tip%20family%20wish%20me%20up%20there HTTP/1.1\u001b[0m\" 200 -\n"
     ]
    },
    {
     "name": "stdout",
     "output_type": "stream",
     "text": [
      "invalid my tip family wish me up there\n",
      "False 0.11753158419371221\n"
     ]
    },
    {
     "name": "stderr",
     "output_type": "stream",
     "text": [
      "127.0.0.1 - - [14/Jul/2020 22:57:19] \"\u001b[37mOPTIONS /?sentence=my%20appointments%20this%20store HTTP/1.1\u001b[0m\" 200 -\n",
      "127.0.0.1 - - [14/Jul/2020 22:57:19] \"\u001b[37mGET /?sentence=my%20appointments%20this%20store HTTP/1.1\u001b[0m\" 200 -\n"
     ]
    },
    {
     "name": "stdout",
     "output_type": "stream",
     "text": [
      "my appointments this store\n",
      "False 0.05993016796722362\n"
     ]
    },
    {
     "name": "stderr",
     "output_type": "stream",
     "text": [
      "127.0.0.1 - - [14/Jul/2020 22:57:33] \"\u001b[37mOPTIONS /?sentence=Toluca HTTP/1.1\u001b[0m\" 200 -\n",
      "127.0.0.1 - - [14/Jul/2020 22:57:33] \"\u001b[37mGET /?sentence=Toluca HTTP/1.1\u001b[0m\" 200 -\n"
     ]
    },
    {
     "name": "stdout",
     "output_type": "stream",
     "text": [
      "Toluca\n",
      "False 0.032210501827593545\n"
     ]
    },
    {
     "name": "stderr",
     "output_type": "stream",
     "text": [
      "127.0.0.1 - - [14/Jul/2020 22:57:36] \"\u001b[37mOPTIONS /?sentence=Columbia HTTP/1.1\u001b[0m\" 200 -\n",
      "127.0.0.1 - - [14/Jul/2020 22:57:36] \"\u001b[37mGET /?sentence=Columbia HTTP/1.1\u001b[0m\" 200 -\n"
     ]
    },
    {
     "name": "stdout",
     "output_type": "stream",
     "text": [
      "Columbia\n",
      "False 0.032210501827593545\n"
     ]
    },
    {
     "name": "stderr",
     "output_type": "stream",
     "text": [
      "127.0.0.1 - - [14/Jul/2020 22:57:43] \"\u001b[37mOPTIONS /?sentence=Spanish%20English%20music%20to%20Melissa%20Morales%20Molina HTTP/1.1\u001b[0m\" 200 -\n",
      "127.0.0.1 - - [14/Jul/2020 22:57:43] \"\u001b[37mGET /?sentence=Spanish%20English%20music%20to%20Melissa%20Morales%20Molina HTTP/1.1\u001b[0m\" 200 -\n"
     ]
    },
    {
     "name": "stdout",
     "output_type": "stream",
     "text": [
      "Spanish English music to Melissa Morales Molina\n",
      "False 0.019108726983664174\n"
     ]
    },
    {
     "name": "stderr",
     "output_type": "stream",
     "text": [
      "127.0.0.1 - - [14/Jul/2020 22:58:00] \"\u001b[37mOPTIONS /?sentence=how%20long%20deep%20is%20the%20ocean HTTP/1.1\u001b[0m\" 200 -\n",
      "127.0.0.1 - - [14/Jul/2020 22:58:00] \"\u001b[37mGET /?sentence=how%20long%20deep%20is%20the%20ocean HTTP/1.1\u001b[0m\" 200 -\n"
     ]
    },
    {
     "name": "stdout",
     "output_type": "stream",
     "text": [
      "how long deep is the ocean\n",
      "False 0.20708387296955846\n"
     ]
    },
    {
     "name": "stderr",
     "output_type": "stream",
     "text": [
      "127.0.0.1 - - [14/Jul/2020 22:58:04] \"\u001b[37mOPTIONS /?sentence=Inside%20Edition HTTP/1.1\u001b[0m\" 200 -\n",
      "127.0.0.1 - - [14/Jul/2020 22:58:04] \"\u001b[37mGET /?sentence=Inside%20Edition HTTP/1.1\u001b[0m\" 200 -\n"
     ]
    },
    {
     "name": "stdout",
     "output_type": "stream",
     "text": [
      "Inside Edition\n",
      "False 0.031708917131311576\n"
     ]
    },
    {
     "name": "stderr",
     "output_type": "stream",
     "text": [
      "127.0.0.1 - - [14/Jul/2020 22:58:12] \"\u001b[37mOPTIONS /?sentence=next%20station HTTP/1.1\u001b[0m\" 200 -\n",
      "127.0.0.1 - - [14/Jul/2020 22:58:12] \"\u001b[37mGET /?sentence=next%20station HTTP/1.1\u001b[0m\" 200 -\n"
     ]
    },
    {
     "name": "stdout",
     "output_type": "stream",
     "text": [
      "next station\n",
      "False 0.032210501827593545\n"
     ]
    },
    {
     "name": "stderr",
     "output_type": "stream",
     "text": [
      "127.0.0.1 - - [14/Jul/2020 22:58:15] \"\u001b[37mOPTIONS /?sentence=rest%20area HTTP/1.1\u001b[0m\" 200 -\n",
      "127.0.0.1 - - [14/Jul/2020 22:58:15] \"\u001b[37mGET /?sentence=rest%20area HTTP/1.1\u001b[0m\" 200 -\n"
     ]
    },
    {
     "name": "stdout",
     "output_type": "stream",
     "text": [
      "rest area\n",
      "False 0.032210501827593545\n"
     ]
    },
    {
     "name": "stderr",
     "output_type": "stream",
     "text": [
      "127.0.0.1 - - [14/Jul/2020 22:58:18] \"\u001b[37mOPTIONS /?sentence=Naperville HTTP/1.1\u001b[0m\" 200 -\n",
      "127.0.0.1 - - [14/Jul/2020 22:58:18] \"\u001b[37mGET /?sentence=Naperville HTTP/1.1\u001b[0m\" 200 -\n"
     ]
    },
    {
     "name": "stdout",
     "output_type": "stream",
     "text": [
      "Naperville\n",
      "False 0.032210501827593545\n"
     ]
    },
    {
     "name": "stderr",
     "output_type": "stream",
     "text": [
      "127.0.0.1 - - [14/Jul/2020 22:58:28] \"\u001b[37mOPTIONS /?sentence=duck%20station HTTP/1.1\u001b[0m\" 200 -\n",
      "127.0.0.1 - - [14/Jul/2020 22:58:28] \"\u001b[37mGET /?sentence=duck%20station HTTP/1.1\u001b[0m\" 200 -\n"
     ]
    },
    {
     "name": "stdout",
     "output_type": "stream",
     "text": [
      "duck station\n",
      "False 0.032210501827593545\n"
     ]
    },
    {
     "name": "stderr",
     "output_type": "stream",
     "text": [
      "127.0.0.1 - - [14/Jul/2020 22:58:38] \"\u001b[37mOPTIONS /?sentence=well HTTP/1.1\u001b[0m\" 200 -\n",
      "127.0.0.1 - - [14/Jul/2020 22:58:38] \"\u001b[37mGET /?sentence=well HTTP/1.1\u001b[0m\" 200 -\n"
     ]
    },
    {
     "name": "stdout",
     "output_type": "stream",
     "text": [
      "well\n",
      "False 0.027648225800361182\n"
     ]
    },
    {
     "name": "stderr",
     "output_type": "stream",
     "text": [
      "127.0.0.1 - - [14/Jul/2020 22:58:55] \"\u001b[37mOPTIONS /?sentence=simple HTTP/1.1\u001b[0m\" 200 -\n",
      "127.0.0.1 - - [14/Jul/2020 22:58:55] \"\u001b[37mGET /?sentence=simple HTTP/1.1\u001b[0m\" 200 -\n"
     ]
    },
    {
     "name": "stdout",
     "output_type": "stream",
     "text": [
      "simple\n",
      "False 0.032210501827593545\n"
     ]
    },
    {
     "name": "stderr",
     "output_type": "stream",
     "text": [
      "127.0.0.1 - - [14/Jul/2020 22:59:00] \"\u001b[37mOPTIONS /?sentence=top%20Furniture%20sofas HTTP/1.1\u001b[0m\" 200 -\n",
      "127.0.0.1 - - [14/Jul/2020 22:59:00] \"\u001b[37mGET /?sentence=top%20Furniture%20sofas HTTP/1.1\u001b[0m\" 200 -\n"
     ]
    },
    {
     "name": "stdout",
     "output_type": "stream",
     "text": [
      "top Furniture sofas\n",
      "False 0.02913768932590693\n"
     ]
    },
    {
     "name": "stderr",
     "output_type": "stream",
     "text": [
      "127.0.0.1 - - [14/Jul/2020 22:59:05] \"\u001b[37mOPTIONS /?sentence=houses%20for%20sale HTTP/1.1\u001b[0m\" 200 -\n",
      "127.0.0.1 - - [14/Jul/2020 22:59:05] \"\u001b[37mGET /?sentence=houses%20for%20sale HTTP/1.1\u001b[0m\" 200 -\n"
     ]
    },
    {
     "name": "stdout",
     "output_type": "stream",
     "text": [
      "houses for sale\n",
      "False 0.03738951396657502\n"
     ]
    },
    {
     "name": "stderr",
     "output_type": "stream",
     "text": [
      "127.0.0.1 - - [14/Jul/2020 22:59:13] \"\u001b[37mOPTIONS /?sentence=do%20you%20think%20if%20Sophia%20can%20answer%20to%20this%20question HTTP/1.1\u001b[0m\" 200 -\n",
      "127.0.0.1 - - [14/Jul/2020 22:59:13] \"\u001b[37mGET /?sentence=do%20you%20think%20if%20Sophia%20can%20answer%20to%20this%20question HTTP/1.1\u001b[0m\" 200 -\n"
     ]
    },
    {
     "name": "stdout",
     "output_type": "stream",
     "text": [
      "do you think if Sophia can answer to this question\n",
      "False 0.3615736509713531\n"
     ]
    },
    {
     "name": "stderr",
     "output_type": "stream",
     "text": [
      "127.0.0.1 - - [14/Jul/2020 22:59:39] \"\u001b[37mOPTIONS /?sentence=Cindy%20Ferrara%20Q%20Street%20in%20special%20sale HTTP/1.1\u001b[0m\" 200 -\n",
      "127.0.0.1 - - [14/Jul/2020 22:59:39] \"\u001b[37mGET /?sentence=Cindy%20Ferrara%20Q%20Street%20in%20special%20sale HTTP/1.1\u001b[0m\" 200 -\n"
     ]
    },
    {
     "name": "stdout",
     "output_type": "stream",
     "text": [
      "Cindy Ferrara Q Street in special sale\n",
      "False 0.030342112468612598\n"
     ]
    },
    {
     "name": "stderr",
     "output_type": "stream",
     "text": [
      "127.0.0.1 - - [14/Jul/2020 22:59:45] \"\u001b[37mOPTIONS /?sentence=time%20is%20it%20in%20India HTTP/1.1\u001b[0m\" 200 -\n",
      "127.0.0.1 - - [14/Jul/2020 22:59:45] \"\u001b[37mGET /?sentence=time%20is%20it%20in%20India HTTP/1.1\u001b[0m\" 200 -\n"
     ]
    },
    {
     "name": "stdout",
     "output_type": "stream",
     "text": [
      "time is it in India\n",
      "False 0.40673091250199855\n"
     ]
    },
    {
     "name": "stderr",
     "output_type": "stream",
     "text": [
      "127.0.0.1 - - [14/Jul/2020 22:59:48] \"\u001b[37mOPTIONS /?sentence=message HTTP/1.1\u001b[0m\" 200 -\n",
      "127.0.0.1 - - [14/Jul/2020 22:59:48] \"\u001b[37mGET /?sentence=message HTTP/1.1\u001b[0m\" 200 -\n"
     ]
    },
    {
     "name": "stdout",
     "output_type": "stream",
     "text": [
      "message\n",
      "False 0.05731186341081263\n"
     ]
    },
    {
     "name": "stderr",
     "output_type": "stream",
     "text": [
      "127.0.0.1 - - [14/Jul/2020 22:59:52] \"\u001b[37mOPTIONS /?sentence=Amazon%20Toshiba HTTP/1.1\u001b[0m\" 200 -\n",
      "127.0.0.1 - - [14/Jul/2020 22:59:52] \"\u001b[37mGET /?sentence=Amazon%20Toshiba HTTP/1.1\u001b[0m\" 200 -\n"
     ]
    },
    {
     "name": "stdout",
     "output_type": "stream",
     "text": [
      "Amazon Toshiba\n",
      "False 0.032210501827593545\n"
     ]
    },
    {
     "name": "stderr",
     "output_type": "stream",
     "text": [
      "127.0.0.1 - - [14/Jul/2020 23:00:33] \"\u001b[37mOPTIONS /?sentence=scratch%20up%20the%20phone HTTP/1.1\u001b[0m\" 200 -\n",
      "127.0.0.1 - - [14/Jul/2020 23:00:33] \"\u001b[37mGET /?sentence=scratch%20up%20the%20phone HTTP/1.1\u001b[0m\" 200 -\n"
     ]
    },
    {
     "name": "stdout",
     "output_type": "stream",
     "text": [
      "scratch up the phone\n",
      "False 0.052953450822342714\n"
     ]
    }
   ],
   "source": [
    "from flask import Flask\n",
    "from flask import jsonify, request\n",
    "from flask_cors import CORS\n",
    "\n",
    "app = Flask(__name__)\n",
    "CORS(app)\n",
    "\n",
    "@app.route('/')\n",
    "def hello_world():\n",
    "    sentence = request.args.get('sentence')\n",
    "    \n",
    "    print(sentence)\n",
    "    prediction, probability = predict(sentence)\n",
    "    print(prediction, probability)\n",
    "    return jsonify({\n",
    "        'prediction': prediction,\n",
    "        'probability': probability\n",
    "    })\n",
    "\n",
    "if __name__ == '__main__':\n",
    "    app.run()"
   ]
  },
  {
   "cell_type": "code",
   "execution_count": null,
   "metadata": {},
   "outputs": [],
   "source": []
  }
 ],
 "metadata": {
  "kernelspec": {
   "display_name": "Python 3",
   "language": "python",
   "name": "python3"
  },
  "language_info": {
   "codemirror_mode": {
    "name": "ipython",
    "version": 3
   },
   "file_extension": ".py",
   "mimetype": "text/x-python",
   "name": "python",
   "nbconvert_exporter": "python",
   "pygments_lexer": "ipython3",
   "version": "3.7.4"
  }
 },
 "nbformat": 4,
 "nbformat_minor": 2
}
